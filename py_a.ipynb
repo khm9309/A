{
  "nbformat": 4,
  "nbformat_minor": 0,
  "metadata": {
    "colab": {
      "provenance": [],
      "authorship_tag": "ABX9TyOXPHSr+ZxUz5y64hoqZ+wc",
      "include_colab_link": true
    },
    "kernelspec": {
      "name": "python3",
      "display_name": "Python 3"
    },
    "language_info": {
      "name": "python"
    }
  },
  "cells": [
    {
      "cell_type": "markdown",
      "metadata": {
        "id": "view-in-github",
        "colab_type": "text"
      },
      "source": [
        "<a href=\"https://colab.research.google.com/github/khm9309/A/blob/main/py_a.ipynb\" target=\"_parent\"><img src=\"https://colab.research.google.com/assets/colab-badge.svg\" alt=\"Open In Colab\"/></a>"
      ]
    },
    {
      "cell_type": "code",
      "execution_count": null,
      "metadata": {
        "id": "mXfGLaUbhlaH"
      },
      "outputs": [],
      "source": []
    },
    {
      "cell_type": "markdown",
      "source": [
        "#CH1. 파이썬 문법  \n",
        "##  자료형  \n",
        "줄바꿈  \n",
        "* 스페이스 두번 or 역슬레쉬 \n",
        "\n",
        "**숫자형**  \n",
        "* 정수 : 123, 456, 0, -30  \n",
        "* 실수 : 12.345, -987,65, 0.7e6\n",
        "* 8진수 : 0o765, 0o123\n",
        "* 16진수 : 0x0D, 0x0A, 0xFF\n",
        "\n",
        "**변수**  \n",
        "* 문자 또는 밑줄로 시작 가능함 [(ex) _kim, alpha 등등]\n",
        "* 대소문자 구분 ( sum, Sum, SUM 다 다르게 인식한다 )\n",
        "* 영문자, 숫자, 밑줄 ( A~Z, 0~9, _ )\n",
        " ex) sun_9, Alpha, s9n 등이 가능 \n",
        "* 파이썬 키워드 (print...)\n",
        "\n",
        "\n",
        "**표기법**  \n",
        "표기법은 편한것 사용하면 된다.  \n",
        "+ 카멜(낙타) 표기법 : myName (두번째 단어를 대문자로 낙타등 처럼)\n",
        "+ 스네이크(뱀) 표기법 : my_name (밑줄을 넣어 표기)\n",
        "+ 파스칼 표기법 : MyName (두단어 모두 대문자로 표기)\n"
      ],
      "metadata": {
        "id": "nazJW8eJhplj"
      }
    },
    {
      "cell_type": "code",
      "source": [
        "a = 10\n",
        "b = 20\n",
        "f = \"10\"\n",
        "c = a + b"
      ],
      "metadata": {
        "id": "P4WhzCp2lWql"
      },
      "execution_count": null,
      "outputs": []
    },
    {
      "cell_type": "code",
      "source": [
        "a = 10\n",
        "b = 20\n",
        "c = \"10\"\n",
        "d = \"20\"\n",
        "print(a+b)\n",
        "print(type(a))\n",
        "print(type(c))\n",
        "print(c+d)\n",
        "print(c,d)\n"
      ],
      "metadata": {
        "colab": {
          "base_uri": "https://localhost:8080/"
        },
        "id": "fmS0bfx1mALu",
        "outputId": "2865bb03-4116-47db-f2eb-95f1d06e0d19"
      },
      "execution_count": null,
      "outputs": [
        {
          "output_type": "stream",
          "name": "stdout",
          "text": [
            "30\n",
            "<class 'int'>\n",
            "<class 'str'>\n",
            "1020\n",
            "10 20\n"
          ]
        }
      ]
    },
    {
      "cell_type": "code",
      "source": [
        "# 나눗셈\n",
        "a = 10\n",
        "b = 3\n",
        "c = a / b\n",
        "d = a // b # 몫\n",
        "e = a % b # 나머지\n",
        "print(c)\n",
        "print(d)\n",
        "print(e)"
      ],
      "metadata": {
        "colab": {
          "base_uri": "https://localhost:8080/"
        },
        "id": "aVeYt_k9qjkX",
        "outputId": "6d689e61-31c7-4f12-97aa-dae97d02e6b1"
      },
      "execution_count": null,
      "outputs": [
        {
          "output_type": "stream",
          "name": "stdout",
          "text": [
            "3.3333333333333335\n",
            "3\n",
            "1\n"
          ]
        }
      ]
    },
    {
      "cell_type": "markdown",
      "source": [],
      "metadata": {
        "id": "bY6wz19SrZgd"
      }
    },
    {
      "cell_type": "code",
      "source": [
        "# 곱셈\n",
        "a = 10\n",
        "b = 3\n",
        "c = a * b #곱하기\n",
        "d = a ** b # 제곱\n",
        "print (c,d)"
      ],
      "metadata": {
        "colab": {
          "base_uri": "https://localhost:8080/"
        },
        "id": "aTGSDUFCraK1",
        "outputId": "a85e67c3-a397-476c-eef0-df5e61bcead2"
      },
      "execution_count": null,
      "outputs": [
        {
          "output_type": "stream",
          "name": "stdout",
          "text": [
            "30 1000\n"
          ]
        }
      ]
    },
    {
      "cell_type": "markdown",
      "source": [
        "#### 문자열\n",
        "1. 큰 따옴표 : \"권혁민\"\n",
        "2. 작은 따옴표 : '권혁민'\n",
        "3. 큰 따옴표 3개 : \"\"\"권혁민\"\"\"\n",
        "4. 작은 따옴표 3개 : '''권혁민'''\n",
        "5. \" 동해물과 백두산이 마르고 닳도록 우리나라 좋은나라 \"  "
      ],
      "metadata": {
        "id": "RnZEAJl3r5NH"
      }
    },
    {
      "cell_type": "code",
      "source": [
        "# 변수  \n",
        "myName = \"Kwon HyeokMin\"\n",
        "my_name = \"권혁민\"\n",
        "_my_name = \"권혁민\"\n",
        "MYNAME = \"권혁민\"\n",
        "my2name = \"권혁민\"  \n",
        "\n",
        " # 안되는 예시들\n",
        " # 2myname = \"권혁민\"\n",
        " # my-name = \"권혁민\"  \n",
        "\n",
        "myName1 = 1234\n",
        "myName2 = \"1234\"\n",
        "print(type(myName1))\n",
        "print(type(myName2))"
      ],
      "metadata": {
        "colab": {
          "base_uri": "https://localhost:8080/"
        },
        "id": "T90l1tvvtUlC",
        "outputId": "7b4603f4-9520-4ade-885d-727ff2658120"
      },
      "execution_count": null,
      "outputs": [
        {
          "output_type": "stream",
          "name": "stdout",
          "text": [
            "<class 'int'>\n",
            "<class 'str'>\n"
          ]
        }
      ]
    },
    {
      "cell_type": "markdown",
      "source": [],
      "metadata": {
        "id": "M6rP5JjGvdPg"
      }
    },
    {
      "cell_type": "markdown",
      "source": [
        "변수할당"
      ],
      "metadata": {
        "id": "KMPhcohWu2YM"
      }
    },
    {
      "cell_type": "code",
      "source": [
        "a=b=c= \"브라보콘\"\n",
        "print(a)\n",
        "print(b)\n",
        "print(c)"
      ],
      "metadata": {
        "colab": {
          "base_uri": "https://localhost:8080/"
        },
        "id": "jYUmmpGIu5BI",
        "outputId": "724225f1-e67f-4484-cb0f-4a24e68de146"
      },
      "execution_count": null,
      "outputs": [
        {
          "output_type": "stream",
          "name": "stdout",
          "text": [
            "브라보콘\n",
            "브라보콘\n",
            "브라보콘\n"
          ]
        }
      ]
    },
    {
      "cell_type": "code",
      "source": [
        "x,y,z=\"딸기\",\"포도\",\"바나나\"\n",
        "print(x)\n",
        "print(y)\n",
        "print(z)"
      ],
      "metadata": {
        "colab": {
          "base_uri": "https://localhost:8080/"
        },
        "id": "l-NmeQ9_vGSS",
        "outputId": "44b21595-6ca6-45f7-89b3-5c93b18791b4"
      },
      "execution_count": null,
      "outputs": [
        {
          "output_type": "stream",
          "name": "stdout",
          "text": [
            "딸기\n",
            "포도\n",
            "바나나\n"
          ]
        }
      ]
    },
    {
      "cell_type": "code",
      "source": [
        "fruits = [\"누가바\",\"쌍쌍바\",\"보석바\"]\n",
        "x,y,z = fruits\n",
        "print(x)\n",
        "print(y)\n",
        "print(z)"
      ],
      "metadata": {
        "colab": {
          "base_uri": "https://localhost:8080/"
        },
        "id": "4x70EdSpv6kN",
        "outputId": "25667185-554f-4c71-9699-d07d3f66b75a"
      },
      "execution_count": null,
      "outputs": [
        {
          "output_type": "stream",
          "name": "stdout",
          "text": [
            "누가바\n",
            "쌍쌍바\n",
            "보석바\n"
          ]
        }
      ]
    },
    {
      "cell_type": "code",
      "source": [],
      "metadata": {
        "id": "kXG1c23j8ovL"
      },
      "execution_count": null,
      "outputs": []
    },
    {
      "cell_type": "code",
      "source": [
        "x = \"life\"\n",
        "y = \"is\"\n",
        "z = \"beautiful!\"\n",
        "print(x,y,z)\n",
        "print(x+y+z)\n",
        "# print() 안에서 , 는 한칸 띄어쓰고 + 는 붙여쓴다"
      ],
      "metadata": {
        "colab": {
          "base_uri": "https://localhost:8080/"
        },
        "id": "_h8u4fUmwgRd",
        "outputId": "f3ff2fa8-0092-4387-aadf-60a710ddc58c"
      },
      "execution_count": null,
      "outputs": [
        {
          "output_type": "stream",
          "name": "stdout",
          "text": [
            "life is beautiful!\n",
            "lifeisbeautiful!\n"
          ]
        }
      ]
    },
    {
      "cell_type": "code",
      "source": [
        "a = 1\n",
        "b = 2\n",
        "c = 3\n",
        "print(a+b+c)\n",
        "print(a,b,c)"
      ],
      "metadata": {
        "colab": {
          "base_uri": "https://localhost:8080/"
        },
        "id": "st9t9BFLxFa9",
        "outputId": "ec8f3c42-7bbe-403c-c1f4-7905e8d60b51"
      },
      "execution_count": null,
      "outputs": [
        {
          "output_type": "stream",
          "name": "stdout",
          "text": [
            "6\n",
            "1 2 3\n"
          ]
        }
      ]
    },
    {
      "cell_type": "code",
      "source": [
        "a = '1'\n",
        "b = '2'\n",
        "c = '3'\n",
        "print(a+b+c)\n",
        "print(a,b,c)"
      ],
      "metadata": {
        "colab": {
          "base_uri": "https://localhost:8080/"
        },
        "id": "eoSEyCEexSvB",
        "outputId": "283b6809-1f8e-4229-8e5a-7d0c459d332d"
      },
      "execution_count": null,
      "outputs": [
        {
          "output_type": "stream",
          "name": "stdout",
          "text": [
            "123\n",
            "1 2 3\n"
          ]
        }
      ]
    },
    {
      "cell_type": "code",
      "source": [
        "# len  길이를 알 수 있다\n",
        "\n",
        "a = \"123456\"\n",
        "b = [2,3,4,5]\n",
        "print(len(a))\n",
        "print(len(b))"
      ],
      "metadata": {
        "colab": {
          "base_uri": "https://localhost:8080/"
        },
        "id": "LPFCYvZ-80Wz",
        "outputId": "04b48ff6-ca4f-40e0-8d45-942db3a4a0bf"
      },
      "execution_count": null,
      "outputs": [
        {
          "output_type": "stream",
          "name": "stdout",
          "text": [
            "6\n",
            "4\n"
          ]
        }
      ]
    },
    {
      "cell_type": "code",
      "source": [
        "# 계산기\n",
        "a = 100\n",
        "b = 200\n",
        "result = a+b\n",
        "print(a,'+',b,'=',result)\n",
        "result = a - b\n",
        "print(a,'-',b,'=',result)\n",
        "result = a / b\n",
        "print(a,'/',b,'=',result)\n",
        "result = a * b\n",
        "print(a,'*',b,'=',result)"
      ],
      "metadata": {
        "colab": {
          "base_uri": "https://localhost:8080/"
        },
        "id": "VVquBeVM9dYP",
        "outputId": "8781b796-2d73-4afa-80e8-f14f0f2fa141"
      },
      "execution_count": null,
      "outputs": [
        {
          "output_type": "stream",
          "name": "stdout",
          "text": [
            "100 + 200 = 300\n",
            "100 - 200 = -100\n",
            "100 / 200 = 0.5\n",
            "100 * 200 = 20000\n"
          ]
        }
      ]
    },
    {
      "cell_type": "code",
      "source": [
        "a = \"1234\"\n",
        "b = 5678\n",
        "c = int(a) + b\n",
        "print(c)"
      ],
      "metadata": {
        "colab": {
          "base_uri": "https://localhost:8080/"
        },
        "id": "gnuV7vHiA4kG",
        "outputId": "243d06ab-d431-4dfb-f305-0757ca496156"
      },
      "execution_count": null,
      "outputs": [
        {
          "output_type": "stream",
          "name": "stdout",
          "text": [
            "6912\n"
          ]
        }
      ]
    },
    {
      "cell_type": "code",
      "source": [
        "# 계산기 2  - input은 사용자가 숫자를 입력하는것\n",
        "num1 = input(\"숫자입력1: \")\n",
        "num2 = input(\"숫자입력2: \")\n",
        "\n",
        "print(type(num1))\n",
        "a = int(num1)\n",
        "b = int(num2)\n",
        "result = a + b;\n",
        "print(a,'+',b,'=',result)\n",
        "result = a - b;\n",
        "print(a,'-',b,'=',result)\n",
        "result = a * b;\n",
        "print(a,'*',b,'=',result)\n",
        "result = a / b;\n",
        "print(a,'/',b,'=',result)"
      ],
      "metadata": {
        "colab": {
          "base_uri": "https://localhost:8080/"
        },
        "id": "u7itj8ZjBGNH",
        "outputId": "3aa67cd6-be35-477b-e26f-360008990bc1"
      },
      "execution_count": null,
      "outputs": [
        {
          "output_type": "stream",
          "name": "stdout",
          "text": [
            "숫자입력1: 10\n",
            "숫자입력2: 2\n",
            "<class 'str'>\n",
            "10 + 2 = 12\n",
            "10 - 2 = 8\n",
            "10 * 2 = 20\n",
            "10 / 2 = 5.0\n"
          ]
        }
      ]
    },
    {
      "cell_type": "code",
      "source": [
        "# 자기이름, 전화번호, 키 x 100\n",
        "name = input(\"이름: \")\n",
        "result = name\n",
        "number = input(\"전화번호: \")\n",
        "result = number\n",
        "num1 = input(\"택배(g)x100: \")\n",
        "a = int(num1)\n",
        "result = int(num1)*100\n",
        "print(\"결과값 =\", a,\"X 100원 =\",result,\"원 입니다.\")"
      ],
      "metadata": {
        "colab": {
          "base_uri": "https://localhost:8080/"
        },
        "id": "i7k_jx2mDsIS",
        "outputId": "5c1a6e3f-f41c-4161-e571-023f63a97274"
      },
      "execution_count": null,
      "outputs": [
        {
          "output_type": "stream",
          "name": "stdout",
          "text": [
            "이름: asd\n",
            "전화번호: asd\n",
            "택배(g)x100: 10\n",
            "결과값 = 10 X 100원 = 1000 원 입니다.\n"
          ]
        }
      ]
    },
    {
      "cell_type": "markdown",
      "source": [
        "# CH2. 서식 출력 print()"
      ],
      "metadata": {
        "id": "rFVHOKqaiZOH"
      }
    },
    {
      "cell_type": "code",
      "source": [
        "print(\"%d\" % 123)\n",
        "print(\"%5d\" % 123)\n",
        "print(\"%05d\" % 123)\n",
        "\n",
        "print(\"%f\" % 123.45)\n",
        "print(\"%7.1f\" % 123.45)\n",
        "print(\"%7.3f\" % 123.45)\n",
        "\n",
        "print(\"%c\" % \"1\")\n",
        "print(\"%s\" % \"가나다라\")\n",
        "print(\"%6s\" % \"abcd\")"
      ],
      "metadata": {
        "colab": {
          "base_uri": "https://localhost:8080/"
        },
        "id": "G2JjqoCdiiQZ",
        "outputId": "a3dad2d0-10d8-4f54-c50e-5d2ae494c373"
      },
      "execution_count": 27,
      "outputs": [
        {
          "output_type": "stream",
          "name": "stdout",
          "text": [
            "123\n",
            "  123\n",
            "00123\n",
            "123.450000\n",
            "  123.5\n",
            "123.450\n",
            "1\n",
            "가나다라\n",
            "  abcd\n"
          ]
        }
      ]
    },
    {
      "cell_type": "markdown",
      "source": [
        "####순서 지정 기능 : format"
      ],
      "metadata": {
        "id": "HriPZo6_kO5i"
      }
    },
    {
      "cell_type": "code",
      "source": [
        "print( \"{0:d}, {1:5d}, {2:05d}\". format(123,456,789) )\n",
        "print( \"{2:d}, {1:5d}, {0:05d}\". format(123,456, 789) )\n",
        "print( \"{2},{1:5s}, {0:05d}\". format(123,\"456\", \"a\", 789) )"
      ],
      "metadata": {
        "colab": {
          "base_uri": "https://localhost:8080/"
        },
        "id": "BhBPQDBgkVID",
        "outputId": "53ae4b76-9fb3-4b67-9d12-fdc185e92949"
      },
      "execution_count": 54,
      "outputs": [
        {
          "output_type": "stream",
          "name": "stdout",
          "text": [
            "123,   456, 00789\n",
            "789,   456, 00123\n",
            "a,456  , 00123\n"
          ]
        }
      ]
    },
    {
      "cell_type": "markdown",
      "source": [
        "서식출력"
      ],
      "metadata": {
        "id": "3A3Egj5klANV"
      }
    },
    {
      "cell_type": "code",
      "source": [
        "print(\"\\n줄 바꿈 명령어 \\n연습 입니다\")"
      ],
      "metadata": {
        "colab": {
          "base_uri": "https://localhost:8080/"
        },
        "id": "e8Siw94IlBsE",
        "outputId": "cb968833-7473-4402-b9c1-92ca17345f23"
      },
      "execution_count": 41,
      "outputs": [
        {
          "output_type": "stream",
          "name": "stdout",
          "text": [
            "\n",
            "줄 바꿈 명령어 \n",
            "연습 입니다\n"
          ]
        }
      ]
    },
    {
      "cell_type": "code",
      "source": [
        "print(\"\\t탭키 명령 연습입니다.\")"
      ],
      "metadata": {
        "colab": {
          "base_uri": "https://localhost:8080/"
        },
        "id": "TE6RSaJflN22",
        "outputId": "a79eaab9-3539-46f9-aeed-3e14f66b3807"
      },
      "execution_count": 35,
      "outputs": [
        {
          "output_type": "stream",
          "name": "stdout",
          "text": [
            "\t탭키 명령 연습입니다.\n"
          ]
        }
      ]
    },
    {
      "cell_type": "code",
      "source": [
        "print(\"따옴표 글자가 \\\"강조\\\"되는 효과\")\n",
        "print(\"따옴표 글자가 \\'강조\\\"되는 효과\")\n",
        "print(\"역슬레쉬 3개를 출력하려면 \\\\\\\\\\\\ 6개\")\n",
        "print(r\"\\n \\t \\\" \\\\ \\' @를 그대로 출력\")"
      ],
      "metadata": {
        "colab": {
          "base_uri": "https://localhost:8080/"
        },
        "id": "BmKhobhwlgJC",
        "outputId": "094cd3fc-74d9-400d-bc29-f179bdc8c36c"
      },
      "execution_count": 39,
      "outputs": [
        {
          "output_type": "stream",
          "name": "stdout",
          "text": [
            "따옴표 글자가 \"강조\"되는 효과\n",
            "따옴표 글자가 '강조\"되는 효과\n",
            "역슬레쉬 3개를 출력하려면 \\\\\\ 6개\n",
            "\\n \\t \\\" \\\\ \\' @를 그대로 출력\n"
          ]
        }
      ]
    },
    {
      "cell_type": "markdown",
      "source": [
        "#### 관계 연산자"
      ],
      "metadata": {
        "id": "pHdMO8pcuhQq"
      }
    },
    {
      "cell_type": "code",
      "source": [
        "a,b=10,20\n",
        "print(a==b,a!=b,a>=b,a<=b,a>b,a<b)"
      ],
      "metadata": {
        "colab": {
          "base_uri": "https://localhost:8080/"
        },
        "id": "0xeIwi2zuknk",
        "outputId": "c3579a7e-5270-4bcf-bc63-640393482fbf"
      },
      "execution_count": 55,
      "outputs": [
        {
          "output_type": "stream",
          "name": "stdout",
          "text": [
            "False True False True False True\n"
          ]
        }
      ]
    },
    {
      "cell_type": "code",
      "source": [],
      "metadata": {
        "id": "AhbG4x60wCsC"
      },
      "execution_count": null,
      "outputs": []
    },
    {
      "cell_type": "markdown",
      "source": [
        "#### 논리연산자 and ,or ,not"
      ],
      "metadata": {
        "id": "lPZ7NYUOvDAb"
      }
    },
    {
      "cell_type": "code",
      "source": [
        "a=150\n",
        "print((a>100) and (a<200)) #100<a<200\n",
        "print((a<100) or (a>200)) # a<100, 200<a\n",
        "print(not(a==100)) # a<100, 100<a"
      ],
      "metadata": {
        "colab": {
          "base_uri": "https://localhost:8080/"
        },
        "id": "0MVY-LiTvGCL",
        "outputId": "5d99f7b2-47dc-4f25-e3f5-b1859e38cf22"
      },
      "execution_count": 63,
      "outputs": [
        {
          "output_type": "stream",
          "name": "stdout",
          "text": [
            "True\n",
            "False\n",
            "True\n"
          ]
        }
      ]
    },
    {
      "cell_type": "code",
      "source": [
        "## if -> 0이 아닌 숫자는 참이다\n",
        "if(120):\n",
        "  print(\"참이면 실행되어 보임 거짓이면 실행을 안한다\")\n",
        "if(0):\n",
        "  print(\"거짓이다\")"
      ],
      "metadata": {
        "colab": {
          "base_uri": "https://localhost:8080/"
        },
        "id": "ywmwHYN8wj1x",
        "outputId": "f96ad348-a66d-424b-dc8d-e410d41a8b01"
      },
      "execution_count": 65,
      "outputs": [
        {
          "output_type": "stream",
          "name": "stdout",
          "text": [
            "참이면 실행되어 보임 거짓이면 실행을 안한다\n"
          ]
        }
      ]
    },
    {
      "cell_type": "markdown",
      "source": [
        "#### 퀴즈2 // 몫 % 나머지  \n",
        "money = int(input(\"입력: \"))   \n",
        "지폐 금액 입력 후 동전으로 교환시 최소화해서 동전을 출력하게끔  \n",
        "(500원, 100원, 50원, 10원)  \n",
        "money, c500, c100, c50, c10  \n",
        "받은돈 : ?원  \n",
        "500원 : ?개  \n",
        "100원 : ?개  \n",
        "50원 : ?개  \n",
        "10원 : ?개  \n",
        "나머지 : ?원  "
      ],
      "metadata": {
        "id": "KmaKwB_vxJnT"
      }
    },
    {
      "cell_type": "code",
      "source": [
        "money,c500,c100,c50,c10=0,0,0,0,0\n",
        "money = int(input(\"동전으로 교환할 돈: \"))\n",
        "temp = money\n",
        "c500 = money // 500 # 몫\n",
        "money %= 500 #money = money % 500 왼쪽 식과 같은 뜻\n",
        "c100 = money // 100\n",
        "money %= 100\n",
        "c50 = money // 50\n",
        "money %= 50\n",
        "c10 = money // 10\n",
        "money %= 10\n",
        "\n",
        "print(\"입력받은 돈은 %d원\" % temp )\n",
        "print(\"500원 동전 :%d\" % c500, \"개\")\n",
        "print(\"100원 동전 :%d\" % c100, \"개\")\n",
        "print(\"50원 동전 :%d\" % c50, \"개\")\n",
        "print(\"10원 동전 :%d\" % c10, \"개\")\n",
        "print(\"나머지 잔돈 : %d\" % money, \"원\")\n"
      ],
      "metadata": {
        "colab": {
          "base_uri": "https://localhost:8080/"
        },
        "id": "vw4SlJdKx2Jp",
        "outputId": "06bf0238-3fd5-429e-9a5b-1f1cee635763"
      },
      "execution_count": 100,
      "outputs": [
        {
          "output_type": "stream",
          "name": "stdout",
          "text": [
            "동전으로 교환할 돈: 2564\n",
            "입력받은 돈은 2564원\n",
            "500원 동전 :5 개\n",
            "100원 동전 :0 개\n",
            "50원 동전 :1 개\n",
            "10원 동전 :1 개\n",
            "나머지 잔돈 : 4 원\n"
          ]
        }
      ]
    },
    {
      "cell_type": "markdown",
      "source": [
        "### 조건문"
      ],
      "metadata": {
        "id": "T5FIRdqZ6jrK"
      }
    },
    {
      "cell_type": "code",
      "source": [
        "a = 50\n",
        "if(a < 100):\n",
        "  print(\"100보다 작으면 참\")\n",
        "  print(\"거짓이면 이문장은 보이지 않음\")\n",
        "print(\"프로그램 끝\")"
      ],
      "metadata": {
        "colab": {
          "base_uri": "https://localhost:8080/"
        },
        "id": "yI7mB5rH6mCP",
        "outputId": "fb20d06f-c651-4779-b3e6-1a6e6355553c"
      },
      "execution_count": 105,
      "outputs": [
        {
          "output_type": "stream",
          "name": "stdout",
          "text": [
            "100보다 작으면 참\n",
            "거짓이면 이문장은 보이지 않음\n",
            "프로그램 끝\n"
          ]
        }
      ]
    },
    {
      "cell_type": "code",
      "source": [
        "a = 200\n",
        "if(a<100):\n",
        "  print(\"참 : 100보다 작음\")\n",
        "else :\n",
        "  print(\"거짓 : 100보다 큼\")\n",
        "print(\"프로그램 끝\")"
      ],
      "metadata": {
        "colab": {
          "base_uri": "https://localhost:8080/"
        },
        "id": "ccFNEPdy7Xui",
        "outputId": "10fc13de-9a2d-4f51-d6d8-0a0e516715ac"
      },
      "execution_count": 109,
      "outputs": [
        {
          "output_type": "stream",
          "name": "stdout",
          "text": [
            "거짓 : 100보다 큼\n",
            "프로그램 끝\n"
          ]
        }
      ]
    },
    {
      "cell_type": "code",
      "source": [
        "## 홀짝 구분\n",
        "a = int(input(\"숫자 입력 :\"))\n",
        "b = a % 2\n",
        "if(b==0):\n",
        "  print(\"짝수 입니다.\")\n",
        "else:\n",
        "  print(\"홀수 입니다.\")"
      ],
      "metadata": {
        "colab": {
          "base_uri": "https://localhost:8080/"
        },
        "id": "uCuRZReI77hv",
        "outputId": "457588bf-4978-49bf-c35b-1057ce8454df"
      },
      "execution_count": 114,
      "outputs": [
        {
          "output_type": "stream",
          "name": "stdout",
          "text": [
            "숫자 입력 :123\n",
            "홀수 입니다.\n"
          ]
        }
      ]
    },
    {
      "cell_type": "code",
      "source": [
        "a = int(input(\"숫자 입력:\"))\n",
        "if(a > 50):\n",
        "  if(a<100):\n",
        "    print(\"50<a<100\")\n",
        "  else:\n",
        "    print(\"a>100\")\n",
        "else:\n",
        "  if(a>25):\n",
        "   print(\"25<a<50\")\n",
        "  else:\n",
        "   print(\"a<25\")\n",
        "print(\"프로그램 끝\")"
      ],
      "metadata": {
        "colab": {
          "base_uri": "https://localhost:8080/"
        },
        "id": "_-l6OO9R8zBp",
        "outputId": "df6238d0-0309-49b9-d062-94c081ba6c7e"
      },
      "execution_count": 126,
      "outputs": [
        {
          "output_type": "stream",
          "name": "stdout",
          "text": [
            "숫자 입력:30\n",
            "25<a<50\n",
            "프로그램 끝\n"
          ]
        }
      ]
    },
    {
      "cell_type": "code",
      "source": [
        "fruit = ['사과','배','샤인머스켓','바나나']\n",
        "fruit.append('망고')   #빠진 것을 추가할 떄 append 사용\n",
        "if '망고' in fruit :\n",
        "  print(\"망고가 있습니다.\")\n",
        "else:\n",
        "  print(\"망고가 없습니다.\")\n",
        "print(fruit)\n"
      ],
      "metadata": {
        "colab": {
          "base_uri": "https://localhost:8080/"
        },
        "id": "fhI0SEsv_plH",
        "outputId": "48622f1f-fd53-4909-9d74-c7e53a227ec5"
      },
      "execution_count": 129,
      "outputs": [
        {
          "output_type": "stream",
          "name": "stdout",
          "text": [
            "망고가 있습니다.\n",
            "['사과', '배', '샤인머스켓', '바나나', '망고']\n"
          ]
        }
      ]
    },
    {
      "cell_type": "code",
      "source": [
        "for i in range(1,10,2): # 초기값, 최대값, 증가값 ->증가값이 1일 경우 생략도 가능하다.\n",
        "  print(\"%d 안녕하세요.\" % i)\n",
        "print(\"환영합니다.^^*\")"
      ],
      "metadata": {
        "colab": {
          "base_uri": "https://localhost:8080/"
        },
        "id": "ilgrMydlAzGQ",
        "outputId": "50cee29f-8131-4aa5-fdc0-668b9d7f0366"
      },
      "execution_count": 136,
      "outputs": [
        {
          "output_type": "stream",
          "name": "stdout",
          "text": [
            "1 안녕하세요.\n",
            "3 안녕하세요.\n",
            "5 안녕하세요.\n",
            "7 안녕하세요.\n",
            "9 안녕하세요.\n",
            "환영합니다.^^*\n"
          ]
        }
      ]
    },
    {
      "cell_type": "code",
      "source": [
        "import random\n",
        "num = []\n",
        "for i in range(0,6):\n",
        "  num.append(random.randrange(1,46))\n",
        "print(\"생성 리스트\", num)"
      ],
      "metadata": {
        "colab": {
          "base_uri": "https://localhost:8080/"
        },
        "id": "h3Ri4zciCGf3",
        "outputId": "0e2f2109-586c-4ec4-be40-9ad4170ee3d6"
      },
      "execution_count": 145,
      "outputs": [
        {
          "output_type": "stream",
          "name": "stdout",
          "text": [
            "생성 리스트 [11, 31, 38, 43, 13, 13]\n"
          ]
        }
      ]
    },
    {
      "cell_type": "code",
      "source": [
        "for i  in range(1,9,1):\n",
        "  print(\"%d\" % i, end='\\t')\n",
        "print(\"\\n\")\n",
        "for i  in range(1,9,1):\n",
        "  print(\"%d\" % i, end='\\t')"
      ],
      "metadata": {
        "colab": {
          "base_uri": "https://localhost:8080/"
        },
        "id": "jhVjGBshDZA0",
        "outputId": "1d8b5df4-1e33-427d-d8ce-59bf881f7a35"
      },
      "execution_count": 150,
      "outputs": [
        {
          "output_type": "stream",
          "name": "stdout",
          "text": [
            "1\t2\t3\t4\t5\t6\t7\t8\t\n",
            "\n",
            "1\t2\t3\t4\t5\t6\t7\t8\t"
          ]
        }
      ]
    },
    {
      "cell_type": "code",
      "source": [
        "sum = 0\n",
        "for i in range(1, 11, 1): #10까지 출력하고 싶으면 0부터 시작이므로 최대값 11로 입력\n",
        "  sum = sum + i\n",
        "print(\"1부터 10까지의 합: %d\" % sum)"
      ],
      "metadata": {
        "colab": {
          "base_uri": "https://localhost:8080/"
        },
        "id": "9tuKZXOXEK8x",
        "outputId": "e883dd32-af3a-40a5-a256-5248d68b338d"
      },
      "execution_count": 152,
      "outputs": [
        {
          "output_type": "stream",
          "name": "stdout",
          "text": [
            "1부터 10까지의 합: 55\n"
          ]
        }
      ]
    },
    {
      "cell_type": "code",
      "source": [
        "sum, num = 0, 0\n",
        "num = int(input(\"숫자입력:\"))\n",
        "for i in range(1, num+1, 1): # 0부터 시작이므로 num +1 꼭 1을 더해야 한다.\n",
        "  sum = sum + i\n",
        "print(\"1~\",num,\"까지의 합: %d\" % sum)"
      ],
      "metadata": {
        "colab": {
          "base_uri": "https://localhost:8080/"
        },
        "id": "ID_WgL9sE3be",
        "outputId": "fa0f3a0b-b686-48d5-ca95-581b50736bc6"
      },
      "execution_count": 157,
      "outputs": [
        {
          "output_type": "stream",
          "name": "stdout",
          "text": [
            "숫자입력:1000\n",
            "1~ 1000 까지의 합: 500500\n"
          ]
        }
      ]
    },
    {
      "cell_type": "code",
      "source": [
        "##구구단\n",
        "i,j = 2,0\n",
        "for j in range(1, 10, 1):\n",
        "  print(\"%d x %d = %2d\" % (i,j,i*j))"
      ],
      "metadata": {
        "colab": {
          "base_uri": "https://localhost:8080/"
        },
        "id": "yydyMdMAFwk0",
        "outputId": "76013771-b7dd-4d9c-be06-3953ec194af7"
      },
      "execution_count": 159,
      "outputs": [
        {
          "output_type": "stream",
          "name": "stdout",
          "text": [
            "2 x 1 =  2\n",
            "2 x 2 =  4\n",
            "2 x 3 =  6\n",
            "2 x 4 =  8\n",
            "2 x 5 = 10\n",
            "2 x 6 = 12\n",
            "2 x 7 = 14\n",
            "2 x 8 = 16\n",
            "2 x 9 = 18\n"
          ]
        }
      ]
    },
    {
      "cell_type": "code",
      "source": [
        "a,b=0,0\n",
        "#k= int(input(\"구구단 단수 입력 : \"))\n",
        "for a in range(1,10):\n",
        "  for b in range(2,6):\n",
        "    print(\"%d x %d = %2d\" % (b,a,a*b), end=\"\\t\")\n",
        "  print(\"\")\n",
        "print(\"\\n\")\n",
        "c,d=0,0\n",
        "for c in range(1,10):\n",
        "  for d in range(6,10):\n",
        "    print(\"%d x %d = %2d\" % (d,c,c*d), end=\"\\t\")\n",
        "  print(\"\")"
      ],
      "metadata": {
        "colab": {
          "base_uri": "https://localhost:8080/"
        },
        "id": "3wsupBOhGqoa",
        "outputId": "bd3c4a22-4a01-40ee-df03-6340a49567ef"
      },
      "execution_count": 184,
      "outputs": [
        {
          "output_type": "stream",
          "name": "stdout",
          "text": [
            "2 x 1 =  2\t3 x 1 =  3\t4 x 1 =  4\t5 x 1 =  5\t\n",
            "2 x 2 =  4\t3 x 2 =  6\t4 x 2 =  8\t5 x 2 = 10\t\n",
            "2 x 3 =  6\t3 x 3 =  9\t4 x 3 = 12\t5 x 3 = 15\t\n",
            "2 x 4 =  8\t3 x 4 = 12\t4 x 4 = 16\t5 x 4 = 20\t\n",
            "2 x 5 = 10\t3 x 5 = 15\t4 x 5 = 20\t5 x 5 = 25\t\n",
            "2 x 6 = 12\t3 x 6 = 18\t4 x 6 = 24\t5 x 6 = 30\t\n",
            "2 x 7 = 14\t3 x 7 = 21\t4 x 7 = 28\t5 x 7 = 35\t\n",
            "2 x 8 = 16\t3 x 8 = 24\t4 x 8 = 32\t5 x 8 = 40\t\n",
            "2 x 9 = 18\t3 x 9 = 27\t4 x 9 = 36\t5 x 9 = 45\t\n",
            "\n",
            "\n",
            "6 x 1 =  6\t7 x 1 =  7\t8 x 1 =  8\t9 x 1 =  9\t\n",
            "6 x 2 = 12\t7 x 2 = 14\t8 x 2 = 16\t9 x 2 = 18\t\n",
            "6 x 3 = 18\t7 x 3 = 21\t8 x 3 = 24\t9 x 3 = 27\t\n",
            "6 x 4 = 24\t7 x 4 = 28\t8 x 4 = 32\t9 x 4 = 36\t\n",
            "6 x 5 = 30\t7 x 5 = 35\t8 x 5 = 40\t9 x 5 = 45\t\n",
            "6 x 6 = 36\t7 x 6 = 42\t8 x 6 = 48\t9 x 6 = 54\t\n",
            "6 x 7 = 42\t7 x 7 = 49\t8 x 7 = 56\t9 x 7 = 63\t\n",
            "6 x 8 = 48\t7 x 8 = 56\t8 x 8 = 64\t9 x 8 = 72\t\n",
            "6 x 9 = 54\t7 x 9 = 63\t8 x 9 = 72\t9 x 9 = 81\t\n"
          ]
        }
      ]
    }
  ]
}