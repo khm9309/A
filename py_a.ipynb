{
  "nbformat": 4,
  "nbformat_minor": 0,
  "metadata": {
    "colab": {
      "provenance": [],
      "authorship_tag": "ABX9TyO6XOaLcsIY583YWD5giOx6",
      "include_colab_link": true
    },
    "kernelspec": {
      "name": "python3",
      "display_name": "Python 3"
    },
    "language_info": {
      "name": "python"
    }
  },
  "cells": [
    {
      "cell_type": "markdown",
      "metadata": {
        "id": "view-in-github",
        "colab_type": "text"
      },
      "source": [
        "<a href=\"https://colab.research.google.com/github/khm9309/A/blob/main/py_a.ipynb\" target=\"_parent\"><img src=\"https://colab.research.google.com/assets/colab-badge.svg\" alt=\"Open In Colab\"/></a>"
      ]
    },
    {
      "cell_type": "code",
      "execution_count": null,
      "metadata": {
        "id": "mXfGLaUbhlaH"
      },
      "outputs": [],
      "source": []
    },
    {
      "cell_type": "markdown",
      "source": [
        "#CH1. 파이썬 문법  \n",
        "##  자료형  \n",
        "줄바꿈  \n",
        "* 스페이스 두번 or 역슬레쉬 \n",
        "\n",
        "**숫자형**  \n",
        "* 정수 : 123, 456, 0, -30  \n",
        "* 실수 : 12.345, -987,65, 0.7e6\n",
        "* 8진수 : 0o765, 0o123\n",
        "* 16진수 : 0x0D, 0x0A, 0xFF\n",
        "\n",
        "**변수**  \n",
        "* 문자 또는 밑줄로 시작 가능함 [(ex) _kim, alpha 등등]\n",
        "* 대소문자 구분 ( sum, Sum, SUM 다 다르게 인식한다 )\n",
        "* 영문자, 숫자, 밑줄 ( A~Z, 0~9, _ )\n",
        " ex) sun_9, Alpha, s9n 등이 가능 \n",
        "* 파이썬 키워드 (print...)\n",
        "\n",
        "\n",
        "**표기법**  \n",
        "표기법은 편한것 사용하면 된다.  \n",
        "+ 카멜(낙타) 표기법 : myName (두번째 단어를 대문자로 낙타등 처럼)\n",
        "+ 스네이크(뱀) 표기법 : my_name (밑줄을 넣어 표기)\n",
        "+ 파스칼 표기법 : MyName (두단어 모두 대문자로 표기)\n"
      ],
      "metadata": {
        "id": "nazJW8eJhplj"
      }
    },
    {
      "cell_type": "code",
      "source": [
        "a = 10\n",
        "b = 20\n",
        "f = \"10\"\n",
        "c = a + b"
      ],
      "metadata": {
        "id": "P4WhzCp2lWql"
      },
      "execution_count": 1,
      "outputs": []
    },
    {
      "cell_type": "code",
      "source": [
        "a = 10\n",
        "b = 20\n",
        "c = \"10\"\n",
        "d = \"20\"\n",
        "print(a+b)\n",
        "print(type(a))\n",
        "print(type(c))\n",
        "print(c+d)\n",
        "print(c,d)\n"
      ],
      "metadata": {
        "colab": {
          "base_uri": "https://localhost:8080/"
        },
        "id": "fmS0bfx1mALu",
        "outputId": "2865bb03-4116-47db-f2eb-95f1d06e0d19"
      },
      "execution_count": 7,
      "outputs": [
        {
          "output_type": "stream",
          "name": "stdout",
          "text": [
            "30\n",
            "<class 'int'>\n",
            "<class 'str'>\n",
            "1020\n",
            "10 20\n"
          ]
        }
      ]
    },
    {
      "cell_type": "code",
      "source": [
        "# 나눗셈\n",
        "a = 10\n",
        "b = 3\n",
        "c = a / b\n",
        "d = a // b # 몫\n",
        "e = a % b # 나머지\n",
        "print(c)\n",
        "print(d)\n",
        "print(e)"
      ],
      "metadata": {
        "colab": {
          "base_uri": "https://localhost:8080/"
        },
        "id": "aVeYt_k9qjkX",
        "outputId": "6d689e61-31c7-4f12-97aa-dae97d02e6b1"
      },
      "execution_count": 10,
      "outputs": [
        {
          "output_type": "stream",
          "name": "stdout",
          "text": [
            "3.3333333333333335\n",
            "3\n",
            "1\n"
          ]
        }
      ]
    },
    {
      "cell_type": "markdown",
      "source": [],
      "metadata": {
        "id": "bY6wz19SrZgd"
      }
    },
    {
      "cell_type": "code",
      "source": [
        "# 곱셈\n",
        "a = 10\n",
        "b = 3\n",
        "c = a * b #곱하기\n",
        "d = a ** b # 제곱\n",
        "print (c,d)"
      ],
      "metadata": {
        "colab": {
          "base_uri": "https://localhost:8080/"
        },
        "id": "aTGSDUFCraK1",
        "outputId": "a85e67c3-a397-476c-eef0-df5e61bcead2"
      },
      "execution_count": 11,
      "outputs": [
        {
          "output_type": "stream",
          "name": "stdout",
          "text": [
            "30 1000\n"
          ]
        }
      ]
    },
    {
      "cell_type": "markdown",
      "source": [
        "#### 문자열\n",
        "1. 큰 따옴표 : \"권혁민\"\n",
        "2. 작은 따옴표 : '권혁민'\n",
        "3. 큰 따옴표 3개 : \"\"\"권혁민\"\"\"\n",
        "4. 작은 따옴표 3개 : '''권혁민'''\n",
        "5. \" 동해물과 백두산이 마르고 닳도록 우리나라 좋은나라 \"  "
      ],
      "metadata": {
        "id": "RnZEAJl3r5NH"
      }
    },
    {
      "cell_type": "code",
      "source": [
        "# 변수  \n",
        "myName = \"Kwon HyeokMin\"\n",
        "my_name = \"권혁민\"\n",
        "_my_name = \"권혁민\"\n",
        "MYNAME = \"권혁민\"\n",
        "my2name = \"권혁민\"  \n",
        "\n",
        " # 안되는 예시들\n",
        " # 2myname = \"권혁민\"\n",
        " # my-name = \"권혁민\"  \n",
        "\n",
        "myName1 = 1234\n",
        "myName2 = \"1234\"\n",
        "print(type(myName1))\n",
        "print(type(myName2))"
      ],
      "metadata": {
        "colab": {
          "base_uri": "https://localhost:8080/"
        },
        "id": "T90l1tvvtUlC",
        "outputId": "7b4603f4-9520-4ade-885d-727ff2658120"
      },
      "execution_count": 18,
      "outputs": [
        {
          "output_type": "stream",
          "name": "stdout",
          "text": [
            "<class 'int'>\n",
            "<class 'str'>\n"
          ]
        }
      ]
    },
    {
      "cell_type": "markdown",
      "source": [],
      "metadata": {
        "id": "M6rP5JjGvdPg"
      }
    },
    {
      "cell_type": "markdown",
      "source": [
        "변수할당"
      ],
      "metadata": {
        "id": "KMPhcohWu2YM"
      }
    },
    {
      "cell_type": "code",
      "source": [
        "a=b=c= \"브라보콘\"\n",
        "print(a)\n",
        "print(b)\n",
        "print(c)"
      ],
      "metadata": {
        "colab": {
          "base_uri": "https://localhost:8080/"
        },
        "id": "jYUmmpGIu5BI",
        "outputId": "724225f1-e67f-4484-cb0f-4a24e68de146"
      },
      "execution_count": 19,
      "outputs": [
        {
          "output_type": "stream",
          "name": "stdout",
          "text": [
            "브라보콘\n",
            "브라보콘\n",
            "브라보콘\n"
          ]
        }
      ]
    },
    {
      "cell_type": "code",
      "source": [
        "x,y,z=\"딸기\",\"포도\",\"바나나\"\n",
        "print(x)\n",
        "print(y)\n",
        "print(z)"
      ],
      "metadata": {
        "colab": {
          "base_uri": "https://localhost:8080/"
        },
        "id": "l-NmeQ9_vGSS",
        "outputId": "44b21595-6ca6-45f7-89b3-5c93b18791b4"
      },
      "execution_count": 20,
      "outputs": [
        {
          "output_type": "stream",
          "name": "stdout",
          "text": [
            "딸기\n",
            "포도\n",
            "바나나\n"
          ]
        }
      ]
    },
    {
      "cell_type": "code",
      "source": [
        "fruits = [\"누가바\",\"쌍쌍바\",\"보석바\"]\n",
        "x,y,z = fruits\n",
        "print(x)\n",
        "print(y)\n",
        "print(z)"
      ],
      "metadata": {
        "colab": {
          "base_uri": "https://localhost:8080/"
        },
        "id": "4x70EdSpv6kN",
        "outputId": "25667185-554f-4c71-9699-d07d3f66b75a"
      },
      "execution_count": 21,
      "outputs": [
        {
          "output_type": "stream",
          "name": "stdout",
          "text": [
            "누가바\n",
            "쌍쌍바\n",
            "보석바\n"
          ]
        }
      ]
    },
    {
      "cell_type": "code",
      "source": [],
      "metadata": {
        "id": "kXG1c23j8ovL"
      },
      "execution_count": null,
      "outputs": []
    },
    {
      "cell_type": "code",
      "source": [
        "x = \"life\"\n",
        "y = \"is\"\n",
        "z = \"beautiful!\"\n",
        "print(x,y,z)\n",
        "print(x+y+z)\n",
        "# print() 안에서 , 는 한칸 띄어쓰고 + 는 붙여쓴다"
      ],
      "metadata": {
        "colab": {
          "base_uri": "https://localhost:8080/"
        },
        "id": "_h8u4fUmwgRd",
        "outputId": "f3ff2fa8-0092-4387-aadf-60a710ddc58c"
      },
      "execution_count": 22,
      "outputs": [
        {
          "output_type": "stream",
          "name": "stdout",
          "text": [
            "life is beautiful!\n",
            "lifeisbeautiful!\n"
          ]
        }
      ]
    },
    {
      "cell_type": "code",
      "source": [
        "a = 1\n",
        "b = 2\n",
        "c = 3\n",
        "print(a+b+c)\n",
        "print(a,b,c)"
      ],
      "metadata": {
        "colab": {
          "base_uri": "https://localhost:8080/"
        },
        "id": "st9t9BFLxFa9",
        "outputId": "ec8f3c42-7bbe-403c-c1f4-7905e8d60b51"
      },
      "execution_count": 23,
      "outputs": [
        {
          "output_type": "stream",
          "name": "stdout",
          "text": [
            "6\n",
            "1 2 3\n"
          ]
        }
      ]
    },
    {
      "cell_type": "code",
      "source": [
        "a = '1'\n",
        "b = '2'\n",
        "c = '3'\n",
        "print(a+b+c)\n",
        "print(a,b,c)"
      ],
      "metadata": {
        "colab": {
          "base_uri": "https://localhost:8080/"
        },
        "id": "eoSEyCEexSvB",
        "outputId": "283b6809-1f8e-4229-8e5a-7d0c459d332d"
      },
      "execution_count": 24,
      "outputs": [
        {
          "output_type": "stream",
          "name": "stdout",
          "text": [
            "123\n",
            "1 2 3\n"
          ]
        }
      ]
    },
    {
      "cell_type": "code",
      "source": [
        "# len  길이를 알 수 있다\n",
        "\n",
        "a = \"123456\"\n",
        "b = [2,3,4,5]\n",
        "print(len(a))\n",
        "print(len(b))"
      ],
      "metadata": {
        "colab": {
          "base_uri": "https://localhost:8080/"
        },
        "id": "LPFCYvZ-80Wz",
        "outputId": "04b48ff6-ca4f-40e0-8d45-942db3a4a0bf"
      },
      "execution_count": 25,
      "outputs": [
        {
          "output_type": "stream",
          "name": "stdout",
          "text": [
            "6\n",
            "4\n"
          ]
        }
      ]
    },
    {
      "cell_type": "code",
      "source": [
        "# 계산기\n",
        "a = 100\n",
        "b = 200\n",
        "result = a+b\n",
        "print(a,'+',b,'=',result)\n",
        "result = a - b\n",
        "print(a,'-',b,'=',result)\n",
        "result = a / b\n",
        "print(a,'/',b,'=',result)\n",
        "result = a * b\n",
        "print(a,'*',b,'=',result)"
      ],
      "metadata": {
        "colab": {
          "base_uri": "https://localhost:8080/"
        },
        "id": "VVquBeVM9dYP",
        "outputId": "8781b796-2d73-4afa-80e8-f14f0f2fa141"
      },
      "execution_count": 29,
      "outputs": [
        {
          "output_type": "stream",
          "name": "stdout",
          "text": [
            "100 + 200 = 300\n",
            "100 - 200 = -100\n",
            "100 / 200 = 0.5\n",
            "100 * 200 = 20000\n"
          ]
        }
      ]
    },
    {
      "cell_type": "code",
      "source": [
        "a = \"1234\"\n",
        "b = 5678\n",
        "c = int(a) + b\n",
        "print(c)"
      ],
      "metadata": {
        "colab": {
          "base_uri": "https://localhost:8080/"
        },
        "id": "gnuV7vHiA4kG",
        "outputId": "243d06ab-d431-4dfb-f305-0757ca496156"
      },
      "execution_count": 30,
      "outputs": [
        {
          "output_type": "stream",
          "name": "stdout",
          "text": [
            "6912\n"
          ]
        }
      ]
    },
    {
      "cell_type": "code",
      "source": [
        "# 계산기 2  - input은 사용자가 숫자를 입력하는것\n",
        "num1 = input(\"숫자입력1: \")\n",
        "num2 = input(\"숫자입력2: \")\n",
        "\n",
        "print(type(num1))\n",
        "a = int(num1)\n",
        "b = int(num2)\n",
        "result = a + b;\n",
        "print(a,'+',b,'=',result)\n",
        "result = a - b;\n",
        "print(a,'-',b,'=',result)\n",
        "result = a * b;\n",
        "print(a,'*',b,'=',result)\n",
        "result = a / b;\n",
        "print(a,'/',b,'=',result)"
      ],
      "metadata": {
        "colab": {
          "base_uri": "https://localhost:8080/"
        },
        "id": "u7itj8ZjBGNH",
        "outputId": "3aa67cd6-be35-477b-e26f-360008990bc1"
      },
      "execution_count": 40,
      "outputs": [
        {
          "output_type": "stream",
          "name": "stdout",
          "text": [
            "숫자입력1: 10\n",
            "숫자입력2: 2\n",
            "<class 'str'>\n",
            "10 + 2 = 12\n",
            "10 - 2 = 8\n",
            "10 * 2 = 20\n",
            "10 / 2 = 5.0\n"
          ]
        }
      ]
    },
    {
      "cell_type": "code",
      "source": [
        "# 자기이름, 전화번호, 키 x 100\n",
        "name = input(\"이름: \")\n",
        "result = name\n",
        "number = input(\"전화번호: \")\n",
        "result = number\n",
        "num1 = input(\"택배(g)x100: \")\n",
        "a = int(num1)\n",
        "result = int(num1)*100\n",
        "print(\"결과값 =\", a,\"X 100원 =\",result,\"원 입니다.\")"
      ],
      "metadata": {
        "colab": {
          "base_uri": "https://localhost:8080/"
        },
        "id": "i7k_jx2mDsIS",
        "outputId": "5c1a6e3f-f41c-4161-e571-023f63a97274"
      },
      "execution_count": 57,
      "outputs": [
        {
          "output_type": "stream",
          "name": "stdout",
          "text": [
            "이름: asd\n",
            "전화번호: asd\n",
            "택배(g)x100: 10\n",
            "결과값 = 10 X 100원 = 1000 원 입니다.\n"
          ]
        }
      ]
    }
  ]
}