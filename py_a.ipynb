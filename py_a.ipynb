{
  "nbformat": 4,
  "nbformat_minor": 0,
  "metadata": {
    "colab": {
      "provenance": [],
      "authorship_tag": "ABX9TyNxGiz1qfU8P+GP6zE/VGme",
      "include_colab_link": true
    },
    "kernelspec": {
      "name": "python3",
      "display_name": "Python 3"
    },
    "language_info": {
      "name": "python"
    }
  },
  "cells": [
    {
      "cell_type": "markdown",
      "metadata": {
        "id": "view-in-github",
        "colab_type": "text"
      },
      "source": [
        "<a href=\"https://colab.research.google.com/github/khm9309/A/blob/main/py_a.ipynb\" target=\"_parent\"><img src=\"https://colab.research.google.com/assets/colab-badge.svg\" alt=\"Open In Colab\"/></a>"
      ]
    },
    {
      "cell_type": "code",
      "execution_count": null,
      "metadata": {
        "id": "mXfGLaUbhlaH"
      },
      "outputs": [],
      "source": []
    },
    {
      "cell_type": "markdown",
      "source": [
        "#CH1. 파이썬 문법  \n",
        "##  자료형  \n",
        "줄바꿈  \n",
        "* 스페이스 두번 or 역슬레쉬 \n",
        "\n",
        "**숫자형**  \n",
        "* 정수 : 123, 456, 0, -30  \n",
        "* 실수 : 12.345, -987,65, 0.7e6\n",
        "* 8진수 : 0o765, 0o123\n",
        "* 16진수 : 0x0D, 0x0A, 0xFF\n",
        "\n",
        "**변수**  \n",
        "* 문자 또는 밑줄로 시작 가능함 [(ex) _kim, alpha 등등]\n",
        "* 대소문자 구분 ( sum, Sum, SUM 다 다르게 인식한다 )\n",
        "* 영문자, 숫자, 밑줄 ( A~Z, 0~9, _ )\n",
        " ex) sun_9, Alpha, s9n 등이 가능 \n",
        "* 파이썬 키워드 (print...)\n",
        "\n",
        "\n",
        "**표기법**  \n",
        "표기법은 편한것 사용하면 된다.  \n",
        "+ 카멜(낙타) 표기법 : myName (두번째 단어를 대문자로 낙타등 처럼)\n",
        "+ 스네이크(뱀) 표기법 : my_name (밑줄을 넣어 표기)\n",
        "+ 파스칼 표기법 : MyName (두단어 모두 대문자로 표기)\n"
      ],
      "metadata": {
        "id": "nazJW8eJhplj"
      }
    },
    {
      "cell_type": "code",
      "source": [
        "a = 10\n",
        "b = 20\n",
        "f = \"10\"\n",
        "c = a + b"
      ],
      "metadata": {
        "id": "P4WhzCp2lWql"
      },
      "execution_count": null,
      "outputs": []
    },
    {
      "cell_type": "code",
      "source": [
        "a = 10\n",
        "b = 20\n",
        "c = \"10\"\n",
        "d = \"20\"\n",
        "print(a+b)\n",
        "print(type(a))\n",
        "print(type(c))\n",
        "print(c+d)\n",
        "print(c,d)\n"
      ],
      "metadata": {
        "colab": {
          "base_uri": "https://localhost:8080/"
        },
        "id": "fmS0bfx1mALu",
        "outputId": "2865bb03-4116-47db-f2eb-95f1d06e0d19"
      },
      "execution_count": null,
      "outputs": [
        {
          "output_type": "stream",
          "name": "stdout",
          "text": [
            "30\n",
            "<class 'int'>\n",
            "<class 'str'>\n",
            "1020\n",
            "10 20\n"
          ]
        }
      ]
    },
    {
      "cell_type": "code",
      "source": [
        "# 나눗셈\n",
        "a = 10\n",
        "b = 3\n",
        "c = a / b\n",
        "d = a // b # 몫\n",
        "e = a % b # 나머지\n",
        "print(c)\n",
        "print(d)\n",
        "print(e)"
      ],
      "metadata": {
        "colab": {
          "base_uri": "https://localhost:8080/"
        },
        "id": "aVeYt_k9qjkX",
        "outputId": "6d689e61-31c7-4f12-97aa-dae97d02e6b1"
      },
      "execution_count": null,
      "outputs": [
        {
          "output_type": "stream",
          "name": "stdout",
          "text": [
            "3.3333333333333335\n",
            "3\n",
            "1\n"
          ]
        }
      ]
    },
    {
      "cell_type": "markdown",
      "source": [],
      "metadata": {
        "id": "bY6wz19SrZgd"
      }
    },
    {
      "cell_type": "code",
      "source": [
        "# 곱셈\n",
        "a = 10\n",
        "b = 3\n",
        "c = a * b #곱하기\n",
        "d = a ** b # 제곱\n",
        "print (c,d)"
      ],
      "metadata": {
        "colab": {
          "base_uri": "https://localhost:8080/"
        },
        "id": "aTGSDUFCraK1",
        "outputId": "a85e67c3-a397-476c-eef0-df5e61bcead2"
      },
      "execution_count": null,
      "outputs": [
        {
          "output_type": "stream",
          "name": "stdout",
          "text": [
            "30 1000\n"
          ]
        }
      ]
    },
    {
      "cell_type": "markdown",
      "source": [
        "#### 문자열\n",
        "1. 큰 따옴표 : \"권혁민\"\n",
        "2. 작은 따옴표 : '권혁민'\n",
        "3. 큰 따옴표 3개 : \"\"\"권혁민\"\"\"\n",
        "4. 작은 따옴표 3개 : '''권혁민'''\n",
        "5. \" 동해물과 백두산이 마르고 닳도록 우리나라 좋은나라 \"  "
      ],
      "metadata": {
        "id": "RnZEAJl3r5NH"
      }
    },
    {
      "cell_type": "code",
      "source": [
        "# 변수  \n",
        "myName = \"Kwon HyeokMin\"\n",
        "my_name = \"권혁민\"\n",
        "_my_name = \"권혁민\"\n",
        "MYNAME = \"권혁민\"\n",
        "my2name = \"권혁민\"  \n",
        "\n",
        " # 안되는 예시들\n",
        " # 2myname = \"권혁민\"\n",
        " # my-name = \"권혁민\"  \n",
        "\n",
        "myName1 = 1234\n",
        "myName2 = \"1234\"\n",
        "print(type(myName1))\n",
        "print(type(myName2))"
      ],
      "metadata": {
        "colab": {
          "base_uri": "https://localhost:8080/"
        },
        "id": "T90l1tvvtUlC",
        "outputId": "7b4603f4-9520-4ade-885d-727ff2658120"
      },
      "execution_count": null,
      "outputs": [
        {
          "output_type": "stream",
          "name": "stdout",
          "text": [
            "<class 'int'>\n",
            "<class 'str'>\n"
          ]
        }
      ]
    },
    {
      "cell_type": "markdown",
      "source": [],
      "metadata": {
        "id": "M6rP5JjGvdPg"
      }
    },
    {
      "cell_type": "markdown",
      "source": [
        "변수할당"
      ],
      "metadata": {
        "id": "KMPhcohWu2YM"
      }
    },
    {
      "cell_type": "code",
      "source": [
        "a=b=c= \"브라보콘\"\n",
        "print(a)\n",
        "print(b)\n",
        "print(c)"
      ],
      "metadata": {
        "colab": {
          "base_uri": "https://localhost:8080/"
        },
        "id": "jYUmmpGIu5BI",
        "outputId": "724225f1-e67f-4484-cb0f-4a24e68de146"
      },
      "execution_count": null,
      "outputs": [
        {
          "output_type": "stream",
          "name": "stdout",
          "text": [
            "브라보콘\n",
            "브라보콘\n",
            "브라보콘\n"
          ]
        }
      ]
    },
    {
      "cell_type": "code",
      "source": [
        "x,y,z=\"딸기\",\"포도\",\"바나나\"\n",
        "print(x)\n",
        "print(y)\n",
        "print(z)"
      ],
      "metadata": {
        "colab": {
          "base_uri": "https://localhost:8080/"
        },
        "id": "l-NmeQ9_vGSS",
        "outputId": "44b21595-6ca6-45f7-89b3-5c93b18791b4"
      },
      "execution_count": null,
      "outputs": [
        {
          "output_type": "stream",
          "name": "stdout",
          "text": [
            "딸기\n",
            "포도\n",
            "바나나\n"
          ]
        }
      ]
    },
    {
      "cell_type": "code",
      "source": [
        "fruits = [\"누가바\",\"쌍쌍바\",\"보석바\"]\n",
        "x,y,z = fruits\n",
        "print(x)\n",
        "print(y)\n",
        "print(z)"
      ],
      "metadata": {
        "colab": {
          "base_uri": "https://localhost:8080/"
        },
        "id": "4x70EdSpv6kN",
        "outputId": "25667185-554f-4c71-9699-d07d3f66b75a"
      },
      "execution_count": null,
      "outputs": [
        {
          "output_type": "stream",
          "name": "stdout",
          "text": [
            "누가바\n",
            "쌍쌍바\n",
            "보석바\n"
          ]
        }
      ]
    },
    {
      "cell_type": "code",
      "source": [],
      "metadata": {
        "id": "kXG1c23j8ovL"
      },
      "execution_count": null,
      "outputs": []
    },
    {
      "cell_type": "code",
      "source": [
        "x = \"life\"\n",
        "y = \"is\"\n",
        "z = \"beautiful!\"\n",
        "print(x,y,z)\n",
        "print(x+y+z)\n",
        "# print() 안에서 , 는 한칸 띄어쓰고 + 는 붙여쓴다"
      ],
      "metadata": {
        "colab": {
          "base_uri": "https://localhost:8080/"
        },
        "id": "_h8u4fUmwgRd",
        "outputId": "f3ff2fa8-0092-4387-aadf-60a710ddc58c"
      },
      "execution_count": null,
      "outputs": [
        {
          "output_type": "stream",
          "name": "stdout",
          "text": [
            "life is beautiful!\n",
            "lifeisbeautiful!\n"
          ]
        }
      ]
    },
    {
      "cell_type": "code",
      "source": [
        "a = 1\n",
        "b = 2\n",
        "c = 3\n",
        "print(a+b+c)\n",
        "print(a,b,c)"
      ],
      "metadata": {
        "colab": {
          "base_uri": "https://localhost:8080/"
        },
        "id": "st9t9BFLxFa9",
        "outputId": "ec8f3c42-7bbe-403c-c1f4-7905e8d60b51"
      },
      "execution_count": null,
      "outputs": [
        {
          "output_type": "stream",
          "name": "stdout",
          "text": [
            "6\n",
            "1 2 3\n"
          ]
        }
      ]
    },
    {
      "cell_type": "code",
      "source": [
        "a = '1'\n",
        "b = '2'\n",
        "c = '3'\n",
        "print(a+b+c)\n",
        "print(a,b,c)"
      ],
      "metadata": {
        "colab": {
          "base_uri": "https://localhost:8080/"
        },
        "id": "eoSEyCEexSvB",
        "outputId": "283b6809-1f8e-4229-8e5a-7d0c459d332d"
      },
      "execution_count": null,
      "outputs": [
        {
          "output_type": "stream",
          "name": "stdout",
          "text": [
            "123\n",
            "1 2 3\n"
          ]
        }
      ]
    },
    {
      "cell_type": "code",
      "source": [
        "# len  길이를 알 수 있다\n",
        "\n",
        "a = \"123456\"\n",
        "b = [2,3,4,5]\n",
        "print(len(a))\n",
        "print(len(b))"
      ],
      "metadata": {
        "colab": {
          "base_uri": "https://localhost:8080/"
        },
        "id": "LPFCYvZ-80Wz",
        "outputId": "04b48ff6-ca4f-40e0-8d45-942db3a4a0bf"
      },
      "execution_count": null,
      "outputs": [
        {
          "output_type": "stream",
          "name": "stdout",
          "text": [
            "6\n",
            "4\n"
          ]
        }
      ]
    },
    {
      "cell_type": "code",
      "source": [
        "# 계산기\n",
        "a = 100\n",
        "b = 200\n",
        "result = a+b\n",
        "print(a,'+',b,'=',result)\n",
        "result = a - b\n",
        "print(a,'-',b,'=',result)\n",
        "result = a / b\n",
        "print(a,'/',b,'=',result)\n",
        "result = a * b\n",
        "print(a,'*',b,'=',result)"
      ],
      "metadata": {
        "colab": {
          "base_uri": "https://localhost:8080/"
        },
        "id": "VVquBeVM9dYP",
        "outputId": "8781b796-2d73-4afa-80e8-f14f0f2fa141"
      },
      "execution_count": null,
      "outputs": [
        {
          "output_type": "stream",
          "name": "stdout",
          "text": [
            "100 + 200 = 300\n",
            "100 - 200 = -100\n",
            "100 / 200 = 0.5\n",
            "100 * 200 = 20000\n"
          ]
        }
      ]
    },
    {
      "cell_type": "code",
      "source": [
        "a = \"1234\"\n",
        "b = 5678\n",
        "c = int(a) + b\n",
        "print(c)"
      ],
      "metadata": {
        "colab": {
          "base_uri": "https://localhost:8080/"
        },
        "id": "gnuV7vHiA4kG",
        "outputId": "243d06ab-d431-4dfb-f305-0757ca496156"
      },
      "execution_count": null,
      "outputs": [
        {
          "output_type": "stream",
          "name": "stdout",
          "text": [
            "6912\n"
          ]
        }
      ]
    },
    {
      "cell_type": "code",
      "source": [
        "# 계산기 2  - input은 사용자가 숫자를 입력하는것\n",
        "num1 = input(\"숫자입력1: \")\n",
        "num2 = input(\"숫자입력2: \")\n",
        "\n",
        "print(type(num1))\n",
        "a = int(num1)\n",
        "b = int(num2)\n",
        "result = a + b;\n",
        "print(a,'+',b,'=',result)\n",
        "result = a - b;\n",
        "print(a,'-',b,'=',result)\n",
        "result = a * b;\n",
        "print(a,'*',b,'=',result)\n",
        "result = a / b;\n",
        "print(a,'/',b,'=',result)"
      ],
      "metadata": {
        "colab": {
          "base_uri": "https://localhost:8080/",
          "height": 396
        },
        "id": "u7itj8ZjBGNH",
        "outputId": "947990f4-30bb-4ce0-8a76-c605b92b4e2c"
      },
      "execution_count": 105,
      "outputs": [
        {
          "output_type": "error",
          "ename": "KeyboardInterrupt",
          "evalue": "ignored",
          "traceback": [
            "\u001b[0;31m---------------------------------------------------------------------------\u001b[0m",
            "\u001b[0;31mKeyboardInterrupt\u001b[0m                         Traceback (most recent call last)",
            "\u001b[0;32m<ipython-input-105-fa6e897ea708>\u001b[0m in \u001b[0;36m<module>\u001b[0;34m\u001b[0m\n\u001b[1;32m      1\u001b[0m \u001b[0;31m# 계산기 2  - input은 사용자가 숫자를 입력하는것\u001b[0m\u001b[0;34m\u001b[0m\u001b[0;34m\u001b[0m\u001b[0m\n\u001b[0;32m----> 2\u001b[0;31m \u001b[0mnum1\u001b[0m \u001b[0;34m=\u001b[0m \u001b[0minput\u001b[0m\u001b[0;34m(\u001b[0m\u001b[0;34m\"숫자입력1: \"\u001b[0m\u001b[0;34m)\u001b[0m\u001b[0;34m\u001b[0m\u001b[0;34m\u001b[0m\u001b[0m\n\u001b[0m\u001b[1;32m      3\u001b[0m \u001b[0mnum2\u001b[0m \u001b[0;34m=\u001b[0m \u001b[0minput\u001b[0m\u001b[0;34m(\u001b[0m\u001b[0;34m\"숫자입력2: \"\u001b[0m\u001b[0;34m)\u001b[0m\u001b[0;34m\u001b[0m\u001b[0;34m\u001b[0m\u001b[0m\n\u001b[1;32m      4\u001b[0m \u001b[0;34m\u001b[0m\u001b[0m\n\u001b[1;32m      5\u001b[0m \u001b[0mprint\u001b[0m\u001b[0;34m(\u001b[0m\u001b[0mtype\u001b[0m\u001b[0;34m(\u001b[0m\u001b[0mnum1\u001b[0m\u001b[0;34m)\u001b[0m\u001b[0;34m)\u001b[0m\u001b[0;34m\u001b[0m\u001b[0;34m\u001b[0m\u001b[0m\n",
            "\u001b[0;32m/usr/local/lib/python3.9/dist-packages/ipykernel/kernelbase.py\u001b[0m in \u001b[0;36mraw_input\u001b[0;34m(self, prompt)\u001b[0m\n\u001b[1;32m    858\u001b[0m                 \u001b[0;34m\"raw_input was called, but this frontend does not support input requests.\"\u001b[0m\u001b[0;34m\u001b[0m\u001b[0;34m\u001b[0m\u001b[0m\n\u001b[1;32m    859\u001b[0m             )\n\u001b[0;32m--> 860\u001b[0;31m         return self._input_request(str(prompt),\n\u001b[0m\u001b[1;32m    861\u001b[0m             \u001b[0mself\u001b[0m\u001b[0;34m.\u001b[0m\u001b[0m_parent_ident\u001b[0m\u001b[0;34m,\u001b[0m\u001b[0;34m\u001b[0m\u001b[0;34m\u001b[0m\u001b[0m\n\u001b[1;32m    862\u001b[0m             \u001b[0mself\u001b[0m\u001b[0;34m.\u001b[0m\u001b[0m_parent_header\u001b[0m\u001b[0;34m,\u001b[0m\u001b[0;34m\u001b[0m\u001b[0;34m\u001b[0m\u001b[0m\n",
            "\u001b[0;32m/usr/local/lib/python3.9/dist-packages/ipykernel/kernelbase.py\u001b[0m in \u001b[0;36m_input_request\u001b[0;34m(self, prompt, ident, parent, password)\u001b[0m\n\u001b[1;32m    902\u001b[0m             \u001b[0;32mexcept\u001b[0m \u001b[0mKeyboardInterrupt\u001b[0m\u001b[0;34m:\u001b[0m\u001b[0;34m\u001b[0m\u001b[0;34m\u001b[0m\u001b[0m\n\u001b[1;32m    903\u001b[0m                 \u001b[0;31m# re-raise KeyboardInterrupt, to truncate traceback\u001b[0m\u001b[0;34m\u001b[0m\u001b[0;34m\u001b[0m\u001b[0m\n\u001b[0;32m--> 904\u001b[0;31m                 \u001b[0;32mraise\u001b[0m \u001b[0mKeyboardInterrupt\u001b[0m\u001b[0;34m(\u001b[0m\u001b[0;34m\"Interrupted by user\"\u001b[0m\u001b[0;34m)\u001b[0m \u001b[0;32mfrom\u001b[0m \u001b[0;32mNone\u001b[0m\u001b[0;34m\u001b[0m\u001b[0;34m\u001b[0m\u001b[0m\n\u001b[0m\u001b[1;32m    905\u001b[0m             \u001b[0;32mexcept\u001b[0m \u001b[0mException\u001b[0m \u001b[0;32mas\u001b[0m \u001b[0me\u001b[0m\u001b[0;34m:\u001b[0m\u001b[0;34m\u001b[0m\u001b[0;34m\u001b[0m\u001b[0m\n\u001b[1;32m    906\u001b[0m                 \u001b[0mself\u001b[0m\u001b[0;34m.\u001b[0m\u001b[0mlog\u001b[0m\u001b[0;34m.\u001b[0m\u001b[0mwarning\u001b[0m\u001b[0;34m(\u001b[0m\u001b[0;34m\"Invalid Message:\"\u001b[0m\u001b[0;34m,\u001b[0m \u001b[0mexc_info\u001b[0m\u001b[0;34m=\u001b[0m\u001b[0;32mTrue\u001b[0m\u001b[0;34m)\u001b[0m\u001b[0;34m\u001b[0m\u001b[0;34m\u001b[0m\u001b[0m\n",
            "\u001b[0;31mKeyboardInterrupt\u001b[0m: Interrupted by user"
          ]
        }
      ]
    },
    {
      "cell_type": "code",
      "source": [
        "# 자기이름, 전화번호, 키 x 100\n",
        "name = input(\"이름: \")\n",
        "result = name\n",
        "number = input(\"전화번호: \")\n",
        "result = number\n",
        "num1 = input(\"택배(g)x100: \")\n",
        "a = int(num1)\n",
        "result = int(num1)*100\n",
        "print(\"결과값 =\", a,\"X 100원 =\",result,\"원 입니다.\")"
      ],
      "metadata": {
        "colab": {
          "base_uri": "https://localhost:8080/"
        },
        "id": "i7k_jx2mDsIS",
        "outputId": "5c1a6e3f-f41c-4161-e571-023f63a97274"
      },
      "execution_count": null,
      "outputs": [
        {
          "output_type": "stream",
          "name": "stdout",
          "text": [
            "이름: asd\n",
            "전화번호: asd\n",
            "택배(g)x100: 10\n",
            "결과값 = 10 X 100원 = 1000 원 입니다.\n"
          ]
        }
      ]
    },
    {
      "cell_type": "markdown",
      "source": [
        "# CH2. 서식 출력 print()"
      ],
      "metadata": {
        "id": "rFVHOKqaiZOH"
      }
    },
    {
      "cell_type": "code",
      "source": [
        "print(\"%d\" % 123)\n",
        "print(\"%5d\" % 123)\n",
        "print(\"%05d\" % 123)\n",
        "\n",
        "print(\"%f\" % 123.45)\n",
        "print(\"%7.1f\" % 123.45)\n",
        "print(\"%7.3f\" % 123.45)\n",
        "\n",
        "print(\"%c\" % \"1\")\n",
        "print(\"%s\" % \"가나다라\")\n",
        "print(\"%6s\" % \"abcd\")"
      ],
      "metadata": {
        "colab": {
          "base_uri": "https://localhost:8080/"
        },
        "id": "G2JjqoCdiiQZ",
        "outputId": "a3dad2d0-10d8-4f54-c50e-5d2ae494c373"
      },
      "execution_count": null,
      "outputs": [
        {
          "output_type": "stream",
          "name": "stdout",
          "text": [
            "123\n",
            "  123\n",
            "00123\n",
            "123.450000\n",
            "  123.5\n",
            "123.450\n",
            "1\n",
            "가나다라\n",
            "  abcd\n"
          ]
        }
      ]
    },
    {
      "cell_type": "markdown",
      "source": [
        "####순서 지정 기능 : format"
      ],
      "metadata": {
        "id": "HriPZo6_kO5i"
      }
    },
    {
      "cell_type": "code",
      "source": [
        "print( \"{0:d}, {1:5d}, {2:05d}\". format(123,456,789) )\n",
        "print( \"{2:d}, {1:5d}, {0:05d}\". format(123,456, 789) )\n",
        "print( \"{2},{1:5s}, {0:05d}\". format(123,\"456\", \"a\", 789) )"
      ],
      "metadata": {
        "colab": {
          "base_uri": "https://localhost:8080/"
        },
        "id": "BhBPQDBgkVID",
        "outputId": "53ae4b76-9fb3-4b67-9d12-fdc185e92949"
      },
      "execution_count": null,
      "outputs": [
        {
          "output_type": "stream",
          "name": "stdout",
          "text": [
            "123,   456, 00789\n",
            "789,   456, 00123\n",
            "a,456  , 00123\n"
          ]
        }
      ]
    },
    {
      "cell_type": "markdown",
      "source": [
        "서식출력"
      ],
      "metadata": {
        "id": "3A3Egj5klANV"
      }
    },
    {
      "cell_type": "code",
      "source": [
        "print(\"\\n줄 바꿈 명령어 \\n연습 입니다\")"
      ],
      "metadata": {
        "colab": {
          "base_uri": "https://localhost:8080/"
        },
        "id": "e8Siw94IlBsE",
        "outputId": "cb968833-7473-4402-b9c1-92ca17345f23"
      },
      "execution_count": null,
      "outputs": [
        {
          "output_type": "stream",
          "name": "stdout",
          "text": [
            "\n",
            "줄 바꿈 명령어 \n",
            "연습 입니다\n"
          ]
        }
      ]
    },
    {
      "cell_type": "code",
      "source": [
        "print(\"\\t탭키 명령 연습입니다.\")"
      ],
      "metadata": {
        "colab": {
          "base_uri": "https://localhost:8080/"
        },
        "id": "TE6RSaJflN22",
        "outputId": "a79eaab9-3539-46f9-aeed-3e14f66b3807"
      },
      "execution_count": null,
      "outputs": [
        {
          "output_type": "stream",
          "name": "stdout",
          "text": [
            "\t탭키 명령 연습입니다.\n"
          ]
        }
      ]
    },
    {
      "cell_type": "code",
      "source": [
        "print(\"따옴표 글자가 \\\"강조\\\"되는 효과\")\n",
        "print(\"따옴표 글자가 \\'강조\\\"되는 효과\")\n",
        "print(\"역슬레쉬 3개를 출력하려면 \\\\\\\\\\\\ 6개\")\n",
        "print(r\"\\n \\t \\\" \\\\ \\' @를 그대로 출력\")"
      ],
      "metadata": {
        "colab": {
          "base_uri": "https://localhost:8080/"
        },
        "id": "BmKhobhwlgJC",
        "outputId": "094cd3fc-74d9-400d-bc29-f179bdc8c36c"
      },
      "execution_count": null,
      "outputs": [
        {
          "output_type": "stream",
          "name": "stdout",
          "text": [
            "따옴표 글자가 \"강조\"되는 효과\n",
            "따옴표 글자가 '강조\"되는 효과\n",
            "역슬레쉬 3개를 출력하려면 \\\\\\ 6개\n",
            "\\n \\t \\\" \\\\ \\' @를 그대로 출력\n"
          ]
        }
      ]
    },
    {
      "cell_type": "markdown",
      "source": [
        "#### 관계 연산자"
      ],
      "metadata": {
        "id": "pHdMO8pcuhQq"
      }
    },
    {
      "cell_type": "code",
      "source": [
        "a,b=10,20\n",
        "print(a==b,a!=b,a>=b,a<=b,a>b,a<b)"
      ],
      "metadata": {
        "colab": {
          "base_uri": "https://localhost:8080/"
        },
        "id": "0xeIwi2zuknk",
        "outputId": "c3579a7e-5270-4bcf-bc63-640393482fbf"
      },
      "execution_count": null,
      "outputs": [
        {
          "output_type": "stream",
          "name": "stdout",
          "text": [
            "False True False True False True\n"
          ]
        }
      ]
    },
    {
      "cell_type": "code",
      "source": [],
      "metadata": {
        "id": "AhbG4x60wCsC"
      },
      "execution_count": null,
      "outputs": []
    },
    {
      "cell_type": "markdown",
      "source": [
        "#### 논리연산자 and ,or ,not"
      ],
      "metadata": {
        "id": "lPZ7NYUOvDAb"
      }
    },
    {
      "cell_type": "code",
      "source": [
        "a=150\n",
        "print((a>100) and (a<200)) #100<a<200\n",
        "print((a<100) or (a>200)) # a<100, 200<a\n",
        "print(not(a==100)) # a<100, 100<a"
      ],
      "metadata": {
        "colab": {
          "base_uri": "https://localhost:8080/"
        },
        "id": "0MVY-LiTvGCL",
        "outputId": "5d99f7b2-47dc-4f25-e3f5-b1859e38cf22"
      },
      "execution_count": null,
      "outputs": [
        {
          "output_type": "stream",
          "name": "stdout",
          "text": [
            "True\n",
            "False\n",
            "True\n"
          ]
        }
      ]
    },
    {
      "cell_type": "code",
      "source": [
        "## if -> 0이 아닌 숫자는 참이다\n",
        "if(120):\n",
        "  print(\"참이면 실행되어 보임 거짓이면 실행을 안한다\")\n",
        "if(0):\n",
        "  print(\"거짓이다\")"
      ],
      "metadata": {
        "colab": {
          "base_uri": "https://localhost:8080/"
        },
        "id": "ywmwHYN8wj1x",
        "outputId": "f96ad348-a66d-424b-dc8d-e410d41a8b01"
      },
      "execution_count": null,
      "outputs": [
        {
          "output_type": "stream",
          "name": "stdout",
          "text": [
            "참이면 실행되어 보임 거짓이면 실행을 안한다\n"
          ]
        }
      ]
    },
    {
      "cell_type": "markdown",
      "source": [
        "#### 퀴즈2 // 몫 % 나머지  \n",
        "money = int(input(\"입력: \"))   \n",
        "지폐 금액 입력 후 동전으로 교환시 최소화해서 동전을 출력하게끔  \n",
        "(500원, 100원, 50원, 10원)  \n",
        "money, c500, c100, c50, c10  \n",
        "받은돈 : ?원  \n",
        "500원 : ?개  \n",
        "100원 : ?개  \n",
        "50원 : ?개  \n",
        "10원 : ?개  \n",
        "나머지 : ?원  "
      ],
      "metadata": {
        "id": "KmaKwB_vxJnT"
      }
    },
    {
      "cell_type": "code",
      "source": [
        "money,c500,c100,c50,c10=0,0,0,0,0\n",
        "money = int(input(\"동전으로 교환할 돈: \"))\n",
        "temp = money\n",
        "c500 = money // 500 # 몫\n",
        "money %= 500 #money = money % 500 왼쪽 식과 같은 뜻\n",
        "c100 = money // 100\n",
        "money %= 100\n",
        "c50 = money // 50\n",
        "money %= 50\n",
        "c10 = money // 10\n",
        "money %= 10\n",
        "\n",
        "print(\"입력받은 돈은 %d원\" % temp )\n",
        "print(\"500원 동전 :%d\" % c500, \"개\")\n",
        "print(\"100원 동전 :%d\" % c100, \"개\")\n",
        "print(\"50원 동전 :%d\" % c50, \"개\")\n",
        "print(\"10원 동전 :%d\" % c10, \"개\")\n",
        "print(\"나머지 잔돈 : %d\" % money, \"원\")\n"
      ],
      "metadata": {
        "colab": {
          "base_uri": "https://localhost:8080/"
        },
        "id": "vw4SlJdKx2Jp",
        "outputId": "06bf0238-3fd5-429e-9a5b-1f1cee635763"
      },
      "execution_count": null,
      "outputs": [
        {
          "output_type": "stream",
          "name": "stdout",
          "text": [
            "동전으로 교환할 돈: 2564\n",
            "입력받은 돈은 2564원\n",
            "500원 동전 :5 개\n",
            "100원 동전 :0 개\n",
            "50원 동전 :1 개\n",
            "10원 동전 :1 개\n",
            "나머지 잔돈 : 4 원\n"
          ]
        }
      ]
    },
    {
      "cell_type": "markdown",
      "source": [
        "### 조건문"
      ],
      "metadata": {
        "id": "T5FIRdqZ6jrK"
      }
    },
    {
      "cell_type": "code",
      "source": [
        "a = 50\n",
        "if(a < 100):\n",
        "  print(\"100보다 작으면 참\")\n",
        "  print(\"거짓이면 이문장은 보이지 않음\")\n",
        "print(\"프로그램 끝\")"
      ],
      "metadata": {
        "colab": {
          "base_uri": "https://localhost:8080/"
        },
        "id": "yI7mB5rH6mCP",
        "outputId": "fb20d06f-c651-4779-b3e6-1a6e6355553c"
      },
      "execution_count": null,
      "outputs": [
        {
          "output_type": "stream",
          "name": "stdout",
          "text": [
            "100보다 작으면 참\n",
            "거짓이면 이문장은 보이지 않음\n",
            "프로그램 끝\n"
          ]
        }
      ]
    },
    {
      "cell_type": "code",
      "source": [
        "a = 200\n",
        "if(a<100):\n",
        "  print(\"참 : 100보다 작음\")\n",
        "else :\n",
        "  print(\"거짓 : 100보다 큼\")\n",
        "print(\"프로그램 끝\")"
      ],
      "metadata": {
        "colab": {
          "base_uri": "https://localhost:8080/"
        },
        "id": "ccFNEPdy7Xui",
        "outputId": "10fc13de-9a2d-4f51-d6d8-0a0e516715ac"
      },
      "execution_count": null,
      "outputs": [
        {
          "output_type": "stream",
          "name": "stdout",
          "text": [
            "거짓 : 100보다 큼\n",
            "프로그램 끝\n"
          ]
        }
      ]
    },
    {
      "cell_type": "code",
      "source": [
        "## 홀짝 구분\n",
        "a = int(input(\"숫자 입력 :\"))\n",
        "b = a % 2\n",
        "if(b==0):\n",
        "  print(\"짝수 입니다.\")\n",
        "else:\n",
        "  print(\"홀수 입니다.\")"
      ],
      "metadata": {
        "colab": {
          "base_uri": "https://localhost:8080/"
        },
        "id": "uCuRZReI77hv",
        "outputId": "457588bf-4978-49bf-c35b-1057ce8454df"
      },
      "execution_count": null,
      "outputs": [
        {
          "output_type": "stream",
          "name": "stdout",
          "text": [
            "숫자 입력 :123\n",
            "홀수 입니다.\n"
          ]
        }
      ]
    },
    {
      "cell_type": "code",
      "source": [
        "a = int(input(\"숫자 입력:\"))\n",
        "if(a > 50):\n",
        "  if(a<100):\n",
        "    print(\"50<a<100\")\n",
        "  else:\n",
        "    print(\"a>100\")\n",
        "else:\n",
        "  if(a>25):\n",
        "   print(\"25<a<50\")\n",
        "  else:\n",
        "   print(\"a<25\")\n",
        "print(\"프로그램 끝\")"
      ],
      "metadata": {
        "colab": {
          "base_uri": "https://localhost:8080/"
        },
        "id": "_-l6OO9R8zBp",
        "outputId": "df6238d0-0309-49b9-d062-94c081ba6c7e"
      },
      "execution_count": null,
      "outputs": [
        {
          "output_type": "stream",
          "name": "stdout",
          "text": [
            "숫자 입력:30\n",
            "25<a<50\n",
            "프로그램 끝\n"
          ]
        }
      ]
    },
    {
      "cell_type": "code",
      "source": [
        "fruit = ['사과','배','샤인머스켓','바나나']\n",
        "fruit.append('망고')   #빠진 것을 추가할 떄 append 사용\n",
        "if '망고' in fruit :\n",
        "  print(\"망고가 있습니다.\")\n",
        "else:\n",
        "  print(\"망고가 없습니다.\")\n",
        "print(fruit)\n"
      ],
      "metadata": {
        "colab": {
          "base_uri": "https://localhost:8080/"
        },
        "id": "fhI0SEsv_plH",
        "outputId": "48622f1f-fd53-4909-9d74-c7e53a227ec5"
      },
      "execution_count": null,
      "outputs": [
        {
          "output_type": "stream",
          "name": "stdout",
          "text": [
            "망고가 있습니다.\n",
            "['사과', '배', '샤인머스켓', '바나나', '망고']\n"
          ]
        }
      ]
    },
    {
      "cell_type": "code",
      "source": [
        "for i in range(1,10,2): # 초기값, 최대값, 증가값 ->증가값이 1일 경우 생략도 가능하다.\n",
        "  print(\"%d 안녕하세요.\" % i)\n",
        "print(\"환영합니다.^^*\")"
      ],
      "metadata": {
        "colab": {
          "base_uri": "https://localhost:8080/"
        },
        "id": "ilgrMydlAzGQ",
        "outputId": "50cee29f-8131-4aa5-fdc0-668b9d7f0366"
      },
      "execution_count": null,
      "outputs": [
        {
          "output_type": "stream",
          "name": "stdout",
          "text": [
            "1 안녕하세요.\n",
            "3 안녕하세요.\n",
            "5 안녕하세요.\n",
            "7 안녕하세요.\n",
            "9 안녕하세요.\n",
            "환영합니다.^^*\n"
          ]
        }
      ]
    },
    {
      "cell_type": "code",
      "source": [
        "import random\n",
        "num = []\n",
        "for i in range(0,6):\n",
        "  num.append(random.randrange(1,46))\n",
        "print(\"생성 리스트\", num)"
      ],
      "metadata": {
        "colab": {
          "base_uri": "https://localhost:8080/"
        },
        "id": "h3Ri4zciCGf3",
        "outputId": "0e2f2109-586c-4ec4-be40-9ad4170ee3d6"
      },
      "execution_count": null,
      "outputs": [
        {
          "output_type": "stream",
          "name": "stdout",
          "text": [
            "생성 리스트 [11, 31, 38, 43, 13, 13]\n"
          ]
        }
      ]
    },
    {
      "cell_type": "code",
      "source": [
        "for i  in range(1,9,1):\n",
        "  print(\"%d\" % i, end='\\t')\n",
        "print(\"\\n\")\n",
        "for i  in range(1,9,1):\n",
        "  print(\"%d\" % i, end='\\t')"
      ],
      "metadata": {
        "colab": {
          "base_uri": "https://localhost:8080/"
        },
        "id": "jhVjGBshDZA0",
        "outputId": "1d8b5df4-1e33-427d-d8ce-59bf881f7a35"
      },
      "execution_count": null,
      "outputs": [
        {
          "output_type": "stream",
          "name": "stdout",
          "text": [
            "1\t2\t3\t4\t5\t6\t7\t8\t\n",
            "\n",
            "1\t2\t3\t4\t5\t6\t7\t8\t"
          ]
        }
      ]
    },
    {
      "cell_type": "code",
      "source": [
        "sum = 0\n",
        "for i in range(1, 11, 1): #10까지 출력하고 싶으면 0부터 시작이므로 최대값 11로 입력\n",
        "  sum = sum + i\n",
        "print(\"1부터 10까지의 합: %d\" % sum)"
      ],
      "metadata": {
        "colab": {
          "base_uri": "https://localhost:8080/"
        },
        "id": "9tuKZXOXEK8x",
        "outputId": "e883dd32-af3a-40a5-a256-5248d68b338d"
      },
      "execution_count": null,
      "outputs": [
        {
          "output_type": "stream",
          "name": "stdout",
          "text": [
            "1부터 10까지의 합: 55\n"
          ]
        }
      ]
    },
    {
      "cell_type": "code",
      "source": [
        "sum, num = 0, 0\n",
        "num = int(input(\"숫자입력:\"))\n",
        "for i in range(1, num+1, 1): # 0부터 시작이므로 num +1 꼭 1을 더해야 한다.\n",
        "  sum = sum + i\n",
        "print(\"1~\",num,\"까지의 합: %d\" % sum)"
      ],
      "metadata": {
        "colab": {
          "base_uri": "https://localhost:8080/"
        },
        "id": "ID_WgL9sE3be",
        "outputId": "fa0f3a0b-b686-48d5-ca95-581b50736bc6"
      },
      "execution_count": null,
      "outputs": [
        {
          "output_type": "stream",
          "name": "stdout",
          "text": [
            "숫자입력:1000\n",
            "1~ 1000 까지의 합: 500500\n"
          ]
        }
      ]
    },
    {
      "cell_type": "code",
      "source": [
        "##구구단\n",
        "i,j = 2,0\n",
        "for j in range(1, 10, 1):\n",
        "  print(\"%d x %d = %2d\" % (i,j,i*j))"
      ],
      "metadata": {
        "colab": {
          "base_uri": "https://localhost:8080/"
        },
        "id": "yydyMdMAFwk0",
        "outputId": "76013771-b7dd-4d9c-be06-3953ec194af7"
      },
      "execution_count": null,
      "outputs": [
        {
          "output_type": "stream",
          "name": "stdout",
          "text": [
            "2 x 1 =  2\n",
            "2 x 2 =  4\n",
            "2 x 3 =  6\n",
            "2 x 4 =  8\n",
            "2 x 5 = 10\n",
            "2 x 6 = 12\n",
            "2 x 7 = 14\n",
            "2 x 8 = 16\n",
            "2 x 9 = 18\n"
          ]
        }
      ]
    },
    {
      "cell_type": "code",
      "source": [
        "a,b=0,0\n",
        "#k= int(input(\"구구단 단수 입력 : \"))\n",
        "for a in range(1,10):\n",
        "  for b in range(2,6):\n",
        "    print(\"%d x %d = %2d\" % (b,a,a*b), end=\"\\t\")\n",
        "  print(\"\")\n",
        "print(\"\\n\")\n",
        "c,d=0,0\n",
        "for c in range(1,10):\n",
        "  for d in range(6,10):\n",
        "    print(\"%d x %d = %2d\" % (d,c,c*d), end=\"\\t\")\n",
        "  print(\"\")"
      ],
      "metadata": {
        "colab": {
          "base_uri": "https://localhost:8080/"
        },
        "id": "3wsupBOhGqoa",
        "outputId": "bd3c4a22-4a01-40ee-df03-6340a49567ef"
      },
      "execution_count": null,
      "outputs": [
        {
          "output_type": "stream",
          "name": "stdout",
          "text": [
            "2 x 1 =  2\t3 x 1 =  3\t4 x 1 =  4\t5 x 1 =  5\t\n",
            "2 x 2 =  4\t3 x 2 =  6\t4 x 2 =  8\t5 x 2 = 10\t\n",
            "2 x 3 =  6\t3 x 3 =  9\t4 x 3 = 12\t5 x 3 = 15\t\n",
            "2 x 4 =  8\t3 x 4 = 12\t4 x 4 = 16\t5 x 4 = 20\t\n",
            "2 x 5 = 10\t3 x 5 = 15\t4 x 5 = 20\t5 x 5 = 25\t\n",
            "2 x 6 = 12\t3 x 6 = 18\t4 x 6 = 24\t5 x 6 = 30\t\n",
            "2 x 7 = 14\t3 x 7 = 21\t4 x 7 = 28\t5 x 7 = 35\t\n",
            "2 x 8 = 16\t3 x 8 = 24\t4 x 8 = 32\t5 x 8 = 40\t\n",
            "2 x 9 = 18\t3 x 9 = 27\t4 x 9 = 36\t5 x 9 = 45\t\n",
            "\n",
            "\n",
            "6 x 1 =  6\t7 x 1 =  7\t8 x 1 =  8\t9 x 1 =  9\t\n",
            "6 x 2 = 12\t7 x 2 = 14\t8 x 2 = 16\t9 x 2 = 18\t\n",
            "6 x 3 = 18\t7 x 3 = 21\t8 x 3 = 24\t9 x 3 = 27\t\n",
            "6 x 4 = 24\t7 x 4 = 28\t8 x 4 = 32\t9 x 4 = 36\t\n",
            "6 x 5 = 30\t7 x 5 = 35\t8 x 5 = 40\t9 x 5 = 45\t\n",
            "6 x 6 = 36\t7 x 6 = 42\t8 x 6 = 48\t9 x 6 = 54\t\n",
            "6 x 7 = 42\t7 x 7 = 49\t8 x 7 = 56\t9 x 7 = 63\t\n",
            "6 x 8 = 48\t7 x 8 = 56\t8 x 8 = 64\t9 x 8 = 72\t\n",
            "6 x 9 = 54\t7 x 9 = 63\t8 x 9 = 72\t9 x 9 = 81\t\n"
          ]
        }
      ]
    },
    {
      "cell_type": "markdown",
      "source": [
        "# CH3. 자료형\n",
        "\n",
        "## 1. 리스트 인덱스, 슬라이싱"
      ],
      "metadata": {
        "id": "-v-4Nc6Fh6Im"
      }
    },
    {
      "cell_type": "code",
      "source": [
        "a = [1,2,3,4,5,6,7,8,9]\n",
        "print(a)\n",
        "print(a[0])"
      ],
      "metadata": {
        "colab": {
          "base_uri": "https://localhost:8080/"
        },
        "id": "KAT-EBh4iDDZ",
        "outputId": "baab59c4-ea73-41a5-dab1-14b92134d470"
      },
      "execution_count": 2,
      "outputs": [
        {
          "output_type": "stream",
          "name": "stdout",
          "text": [
            "[1, 2, 3, 4, 5, 6, 7, 8, 9]\n",
            "1\n"
          ]
        }
      ]
    },
    {
      "cell_type": "code",
      "source": [
        "a = [1,2,3,4,5,6,7,8,9]\n",
        "print(a[-1])\n",
        "print(a[-2])"
      ],
      "metadata": {
        "colab": {
          "base_uri": "https://localhost:8080/"
        },
        "id": "M-YT2vISj0gR",
        "outputId": "0324affb-d859-454a-9002-6cef32c65d91"
      },
      "execution_count": 4,
      "outputs": [
        {
          "output_type": "stream",
          "name": "stdout",
          "text": [
            "9\n",
            "8\n"
          ]
        }
      ]
    },
    {
      "cell_type": "code",
      "source": [
        "a = [1,2,3,4,5,6,7,8,9]\n",
        "print(a[0:9:2])\n",
        "print(a[1:9:2])"
      ],
      "metadata": {
        "colab": {
          "base_uri": "https://localhost:8080/"
        },
        "id": "0NVDBACakEOg",
        "outputId": "8bcd985b-5733-442c-c7de-a54968ea727b"
      },
      "execution_count": 6,
      "outputs": [
        {
          "output_type": "stream",
          "name": "stdout",
          "text": [
            "[1, 3, 5, 7, 9]\n",
            "[2, 4, 6, 8]\n"
          ]
        }
      ]
    },
    {
      "cell_type": "code",
      "source": [
        "a = [1,2,3,4,5,6,7,8,9]\n",
        "print(a[:4])\n",
        "print(a[5:])"
      ],
      "metadata": {
        "colab": {
          "base_uri": "https://localhost:8080/"
        },
        "id": "6mc1WSCHkeF1",
        "outputId": "5f80164d-45c5-47a7-a81a-39aac0f874bb"
      },
      "execution_count": 7,
      "outputs": [
        {
          "output_type": "stream",
          "name": "stdout",
          "text": [
            "[1, 2, 3, 4]\n",
            "[6, 7, 8, 9]\n"
          ]
        }
      ]
    },
    {
      "cell_type": "code",
      "source": [
        "a = [1,2,3,4,5,6,7,8,9]\n",
        "print(len(a))\n",
        "print(len(a)-1)"
      ],
      "metadata": {
        "colab": {
          "base_uri": "https://localhost:8080/"
        },
        "id": "zbQQq1erk_N9",
        "outputId": "e03785af-0c81-4dd9-c4ed-25b02f39fee2"
      },
      "execution_count": 8,
      "outputs": [
        {
          "output_type": "stream",
          "name": "stdout",
          "text": [
            "9\n",
            "8\n"
          ]
        }
      ]
    },
    {
      "cell_type": "code",
      "source": [
        "b = [1,2,3,4,5,6]\n",
        "b[0] = \"apple\"\n",
        "b[1] = 99\n",
        "b[5] = [1,2,3]\n",
        "print(b)"
      ],
      "metadata": {
        "colab": {
          "base_uri": "https://localhost:8080/"
        },
        "id": "2sGRA6FBlWEn",
        "outputId": "5b9832d1-fddc-4811-91ac-e877aa0e7d8e"
      },
      "execution_count": 14,
      "outputs": [
        {
          "output_type": "stream",
          "name": "stdout",
          "text": [
            "['apple', 99, 3, 4, 5, [1, 2, 3]]\n"
          ]
        }
      ]
    },
    {
      "cell_type": "code",
      "source": [
        "a = [1,2,3]\n",
        "b = [4,5,6]\n",
        "c = a + b\n",
        "print(a+b)\n",
        "print(c)\n",
        "print(c*3)"
      ],
      "metadata": {
        "colab": {
          "base_uri": "https://localhost:8080/"
        },
        "id": "A4MMCBj5mVVP",
        "outputId": "04cff0d2-2571-44fc-c508-70f4052f9a0a"
      },
      "execution_count": 16,
      "outputs": [
        {
          "output_type": "stream",
          "name": "stdout",
          "text": [
            "[1, 2, 3, 4, 5, 6]\n",
            "[1, 2, 3, 4, 5, 6]\n",
            "[1, 2, 3, 4, 5, 6, 1, 2, 3, 4, 5, 6, 1, 2, 3, 4, 5, 6]\n"
          ]
        }
      ]
    },
    {
      "cell_type": "markdown",
      "source": [
        "#함수 이용"
      ],
      "metadata": {
        "id": "LliVOSiUm2sY"
      }
    },
    {
      "cell_type": "code",
      "source": [
        "k = [\"a\",\"b\",\"c\",\"d\",\"c\"]\n",
        "k.remove(\"c\")\n",
        "k.append(\"f\")\n",
        "print(k)"
      ],
      "metadata": {
        "colab": {
          "base_uri": "https://localhost:8080/"
        },
        "id": "5KHSXpqsm5Ww",
        "outputId": "39a5466b-8380-41df-bed2-05d095084d04"
      },
      "execution_count": 22,
      "outputs": [
        {
          "output_type": "stream",
          "name": "stdout",
          "text": [
            "['a', 'b', 'd', 'c', 'f']\n"
          ]
        }
      ]
    },
    {
      "cell_type": "code",
      "source": [
        "j = \"God is love!\"\n",
        "print(j[:3])\n",
        "print(j[4:6])\n",
        "print(j[7:])"
      ],
      "metadata": {
        "colab": {
          "base_uri": "https://localhost:8080/"
        },
        "id": "M9vHmxjuoEDi",
        "outputId": "b5c0193d-e15e-4187-b174-53eb5b5ba18b"
      },
      "execution_count": 24,
      "outputs": [
        {
          "output_type": "stream",
          "name": "stdout",
          "text": [
            "God\n",
            "is\n",
            "love!\n"
          ]
        }
      ]
    },
    {
      "cell_type": "code",
      "source": [
        "j = \" God is love! \"\n",
        "print(j.upper()) # 모두 대문자로\n",
        "print(j.lower()) # 모두 소문자로\n",
        "print(j.strip()) # 양옆의 공백을 없앤다다"
      ],
      "metadata": {
        "colab": {
          "base_uri": "https://localhost:8080/"
        },
        "id": "QlW9jkBdov3R",
        "outputId": "b3d7cc5d-2b5b-4ad8-8526-8197676204a4"
      },
      "execution_count": 26,
      "outputs": [
        {
          "output_type": "stream",
          "name": "stdout",
          "text": [
            " GOD IS LOVE! \n",
            " god is love! \n",
            "God is love!\n"
          ]
        }
      ]
    },
    {
      "cell_type": "code",
      "source": [
        "a = [\"apple\", \"banana\", \"cherry\"]\n",
        "a.append(\"Orange\")\n",
        "print(a)"
      ],
      "metadata": {
        "colab": {
          "base_uri": "https://localhost:8080/"
        },
        "id": "fe9uSr5lt0Ki",
        "outputId": "fc8c42df-f47e-4097-bc9f-0d0c2ac1d8e0"
      },
      "execution_count": 28,
      "outputs": [
        {
          "output_type": "stream",
          "name": "stdout",
          "text": [
            "['apple', 'banana', 'cherry', 'Orange']\n"
          ]
        }
      ]
    },
    {
      "cell_type": "code",
      "source": [
        "a = [\"apple\", \"banana\", \"cherry\"]\n",
        "a.insert(1,\"Orange\") #지정한곳에 삽입\n",
        "print(a)"
      ],
      "metadata": {
        "colab": {
          "base_uri": "https://localhost:8080/"
        },
        "id": "hF9ZXHgRt_MQ",
        "outputId": "f9fc2c71-14bb-412a-ab8c-5524c5f82a46"
      },
      "execution_count": 29,
      "outputs": [
        {
          "output_type": "stream",
          "name": "stdout",
          "text": [
            "['apple', 'Orange', 'banana', 'cherry']\n"
          ]
        }
      ]
    },
    {
      "cell_type": "code",
      "source": [
        "a = [\"apple\", \"banana\", \"cherry\", \"banana\"]\n",
        "a.remove(\"banana\") # 앞순서부터 지정된 값이 있으면 삭제한다.(전체 삭제가 아닌 앞에서부터 정해진 자료 첫번째만 삭제)\n",
        "print(a)"
      ],
      "metadata": {
        "colab": {
          "base_uri": "https://localhost:8080/"
        },
        "id": "lCKNm9zkuNLi",
        "outputId": "3b13c326-b1b5-4cfa-d4f5-94a9dd705e02"
      },
      "execution_count": 30,
      "outputs": [
        {
          "output_type": "stream",
          "name": "stdout",
          "text": [
            "['apple', 'cherry', 'banana']\n"
          ]
        }
      ]
    },
    {
      "cell_type": "code",
      "source": [
        "a = [\"apple\", \"banana\", \"cherry\"]\n",
        "a.pop() #맨뒤 지움\n",
        "print(a)\n",
        "a.pop(1) #맨뒤에서 첫번째 자료(정해진 순서의 자료 0부터 시작이므로 뒤에서 두번째) 지움\n",
        "print(a)"
      ],
      "metadata": {
        "colab": {
          "base_uri": "https://localhost:8080/"
        },
        "id": "1LgqUpvouUvA",
        "outputId": "bd393fa3-5592-4cff-938c-c40324c641bf"
      },
      "execution_count": 35,
      "outputs": [
        {
          "output_type": "stream",
          "name": "stdout",
          "text": [
            "['apple', 'banana']\n",
            "['apple']\n"
          ]
        }
      ]
    },
    {
      "cell_type": "code",
      "source": [
        "fruit = [\"사과\", \"배\", \"오렌지\"] # for문 안에 넣었으므로 하나씩 출력되었다\n",
        "for i in fruit:\n",
        "  print(i)"
      ],
      "metadata": {
        "colab": {
          "base_uri": "https://localhost:8080/"
        },
        "id": "M9Q70AutvK4T",
        "outputId": "a07d7327-d5fd-4e24-bbb1-9eca9e8bbc0c"
      },
      "execution_count": 36,
      "outputs": [
        {
          "output_type": "stream",
          "name": "stdout",
          "text": [
            "사과\n",
            "배\n",
            "오렌지\n"
          ]
        }
      ]
    },
    {
      "cell_type": "code",
      "source": [
        "fruit = [\"감\", \"밤\", \"대추\"] # for i in  range(1,10,2): -> 1부터 10까지 2칸마다 하나씩 출력 이란 뜻이므로 아래는 fruit 리스트의 길이가 3이므로 3번 출력된 것이다.\n",
        "for i in range(len(fruit)):\n",
        "  print(fruit)"
      ],
      "metadata": {
        "colab": {
          "base_uri": "https://localhost:8080/"
        },
        "id": "UeiXgKM9vcTt",
        "outputId": "823bdfcb-4be7-461d-943b-a693860a0b3a"
      },
      "execution_count": 37,
      "outputs": [
        {
          "output_type": "stream",
          "name": "stdout",
          "text": [
            "['감', '밤', '대추']\n",
            "['감', '밤', '대추']\n",
            "['감', '밤', '대추']\n"
          ]
        }
      ]
    },
    {
      "cell_type": "code",
      "source": [
        "a = [7,5,3,8,2,0,1,4,6,9]\n",
        "a.sort()\n",
        "print(a)\n",
        "a.sort(reverse = True)\n",
        "print(a)"
      ],
      "metadata": {
        "colab": {
          "base_uri": "https://localhost:8080/"
        },
        "id": "-535idiGwDHK",
        "outputId": "e290e468-c8af-467e-9468-958c92f847b1"
      },
      "execution_count": 39,
      "outputs": [
        {
          "output_type": "stream",
          "name": "stdout",
          "text": [
            "[0, 1, 2, 3, 4, 5, 6, 7, 8, 9]\n",
            "[9, 8, 7, 6, 5, 4, 3, 2, 1, 0]\n"
          ]
        }
      ]
    },
    {
      "cell_type": "code",
      "source": [
        "fruit = [\"Kiwi\", \"apple\", \"Orange\", \"banana\"]\n",
        "fruit.sort() #문자를 알파벳 순서로 나열하나 대문자를 우선시 한다\n",
        "print(fruit)\n",
        "fruit.sort(key=str.lower) #문자를 대소문자 구분 없이 알파벳 순서로 나열한다\n",
        "print(fruit)\n",
        "fruit.reverse() #나열된 문자를 반대로 다시 나열한다다\n",
        "print(fruit)"
      ],
      "metadata": {
        "colab": {
          "base_uri": "https://localhost:8080/"
        },
        "id": "Vv7ac554woDV",
        "outputId": "60528cd1-4a07-4145-e7a0-d1b29fa25c08"
      },
      "execution_count": 44,
      "outputs": [
        {
          "output_type": "stream",
          "name": "stdout",
          "text": [
            "['Kiwi', 'Orange', 'apple', 'banana']\n",
            "['apple', 'banana', 'Kiwi', 'Orange']\n",
            "['Orange', 'Kiwi', 'banana', 'apple']\n"
          ]
        }
      ]
    },
    {
      "cell_type": "code",
      "source": [
        "# List 복사\n",
        "fruit = [\"kiwi\", \"apple\", \"Orange\", \"banana\"]\n",
        "myList = fruit.copy()\n",
        "print(myList)\n",
        "cyList = list(fruit)\n",
        "print(cyList)"
      ],
      "metadata": {
        "colab": {
          "base_uri": "https://localhost:8080/"
        },
        "id": "6qwIOWZKzXZg",
        "outputId": "e4021f75-a905-45d1-a781-285fda73b0e7"
      },
      "execution_count": 46,
      "outputs": [
        {
          "output_type": "stream",
          "name": "stdout",
          "text": [
            "['kiwi', 'apple', 'Orange', 'banana']\n",
            "['kiwi', 'apple', 'Orange', 'banana']\n"
          ]
        }
      ]
    },
    {
      "cell_type": "markdown",
      "source": [
        "## 2. Tuple 튜플\n",
        "\n",
        "리스트와 비슷하지만 값을 변경할 수 없는 특징이 있다 (삭제 추가 불가능)  \n",
        "튜플은 *소괄호*를 사용한다 (중요! 괄호 차이로 리스트와 튜플을 분류한다)  \n",
        "ex) t = ( 1,2,3 )  \n",
        "type t 로 분류한다 (list 는 타입이 L 이다)  \n",
        "리스트에서 활용하는 여러함수들도 튜플에서 사용불가한다  \n",
        "상수적인 특성이 있어 연산이 빠르다  \n",
        "값의 변경이 불가능하지만 100프로는 아님 (특정함수로만 변경 가능)  "
      ],
      "metadata": {
        "id": "ebTNzO64z572"
      }
    },
    {
      "cell_type": "code",
      "source": [
        "l = [1,2,3]\n",
        "t = (5,6,7)\n",
        "print(type(l))\n",
        "print(type(t))"
      ],
      "metadata": {
        "colab": {
          "base_uri": "https://localhost:8080/"
        },
        "id": "DBD_FcdW1Dx8",
        "outputId": "f0689893-5e61-475a-a7cb-78f9299f0db6"
      },
      "execution_count": 47,
      "outputs": [
        {
          "output_type": "stream",
          "name": "stdout",
          "text": [
            "<class 'list'>\n",
            "<class 'tuple'>\n"
          ]
        }
      ]
    },
    {
      "cell_type": "code",
      "source": [
        "l = [1,2,3]\n",
        "t = (5,6,7)\n",
        "l[0] = 4\n",
        "# t[0] = 8 튜플은 변경이 불가능 하다다\n",
        "print(l)\n",
        "print(t)"
      ],
      "metadata": {
        "colab": {
          "base_uri": "https://localhost:8080/"
        },
        "id": "X6cctmAi1dT6",
        "outputId": "aa40dc4f-1b87-43bb-acfa-5306e7ad316d"
      },
      "execution_count": 52,
      "outputs": [
        {
          "output_type": "stream",
          "name": "stdout",
          "text": [
            "[4, 2, 3]\n",
            "(5, 6, 7)\n"
          ]
        }
      ]
    },
    {
      "cell_type": "code",
      "source": [
        "f = (\"apple\", \"banana\", \"cherry\") #튜플 자료형도 길이는 동일하게 구할 수 있다.\n",
        "print(len(f))"
      ],
      "metadata": {
        "colab": {
          "base_uri": "https://localhost:8080/"
        },
        "id": "89tMF67514Za",
        "outputId": "4ff14e13-a394-406b-d914-3598720e8212"
      },
      "execution_count": 53,
      "outputs": [
        {
          "output_type": "stream",
          "name": "stdout",
          "text": [
            "3\n"
          ]
        }
      ]
    },
    {
      "cell_type": "code",
      "source": [
        "# 하나의 자료만 사용할 때에는는 튜플로 인식하려면 사용하려면 자료료 뒤에 ',' (콤마) 가 반드시 필요하다 콤마없이 자료하나만 넣을경우 스트링으로 인식한다.\n",
        "t = (\"Kiwi\")\n",
        "print(t)\n",
        "print(type(t))\n",
        "T = (\"Kiwi\",)\n",
        "print(T)\n",
        "print(type(T))"
      ],
      "metadata": {
        "colab": {
          "base_uri": "https://localhost:8080/"
        },
        "id": "sugGqc2z2Ffi",
        "outputId": "6e55c6cf-7138-4564-afbc-fd5c557a0971"
      },
      "execution_count": 57,
      "outputs": [
        {
          "output_type": "stream",
          "name": "stdout",
          "text": [
            "Kiwi\n",
            "<class 'str'>\n",
            "('Kiwi',)\n",
            "<class 'tuple'>\n"
          ]
        }
      ]
    },
    {
      "cell_type": "code",
      "source": [
        "# 인덱싱 가능\n",
        "f = (\"banana\", \"apple\", \"kiwi\", \"cherry\", \"Orange\")\n",
        "print(f[:4])\n",
        "print(f[2:])"
      ],
      "metadata": {
        "colab": {
          "base_uri": "https://localhost:8080/"
        },
        "id": "tb7dbqfY22hB",
        "outputId": "160fde0c-2f55-4edc-daf5-28f60118d013"
      },
      "execution_count": 59,
      "outputs": [
        {
          "output_type": "stream",
          "name": "stdout",
          "text": [
            "('banana', 'apple', 'kiwi', 'cherry')\n",
            "('kiwi', 'cherry', 'Orange')\n"
          ]
        }
      ]
    },
    {
      "cell_type": "code",
      "source": [
        "# if 문안에도 사용 가능 if, else 뒤에는 ':' 를 꼭 넣어야 한다.\n",
        "f = (\"banana\", \"apple\", \"kiwi\", \"cherry\", \"Orange\")\n",
        "if \"apple\" in f:\n",
        "  print(\"Yes\")\n",
        "else:\n",
        "  print(\"no\")  "
      ],
      "metadata": {
        "colab": {
          "base_uri": "https://localhost:8080/"
        },
        "id": "8W2lJEOk3Uja",
        "outputId": "3f4a69bc-a6f7-4ce5-fcfe-42ee34b5ce9f"
      },
      "execution_count": 61,
      "outputs": [
        {
          "output_type": "stream",
          "name": "stdout",
          "text": [
            "Yes\n"
          ]
        }
      ]
    },
    {
      "cell_type": "markdown",
      "source": [
        "## Tuple <-> List\n",
        "튜플을 리스트로 변경하는 방법  \n",
        "튜플을 변경하려면 리스트로 변환하여 내용을 변경한 후  \n",
        "다시 튜플로 변환 하여야 한다."
      ],
      "metadata": {
        "id": "-FT-1ZVJ36rq"
      }
    },
    {
      "cell_type": "code",
      "source": [
        "# 튜플에 추가하는 방법  (튜플을 아래처럼 리스트로 변경후 자료 추가한 다음 다시 튜플로 변환한다)\n",
        "t = (\"apple\", \"banana\", \"cherry\")\n",
        "y = list(t)\n",
        "print(type(y))\n",
        "y.append(\"Orange\")\n",
        "t = tuple(y)\n",
        "print(t)"
      ],
      "metadata": {
        "colab": {
          "base_uri": "https://localhost:8080/"
        },
        "id": "8EyV0PwH4Ieo",
        "outputId": "804ce113-0ee8-4560-ebdd-94a748f57345"
      },
      "execution_count": 63,
      "outputs": [
        {
          "output_type": "stream",
          "name": "stdout",
          "text": [
            "<class 'list'>\n",
            "('apple', 'banana', 'cherry', 'Orange')\n"
          ]
        }
      ]
    },
    {
      "cell_type": "code",
      "source": [
        "# List -> Tuple\n",
        "company = [\"LG\", \"SK\", \"Apple\"]\n",
        "t = tuple(company)\n",
        "print(company)\n",
        "print(type(company))\n",
        "print(t)\n",
        "print(type(t))"
      ],
      "metadata": {
        "colab": {
          "base_uri": "https://localhost:8080/"
        },
        "id": "nWe_AsDq5GzG",
        "outputId": "edfe97b1-9af4-49bf-d01b-861fc7bfbdba"
      },
      "execution_count": 67,
      "outputs": [
        {
          "output_type": "stream",
          "name": "stdout",
          "text": [
            "['LG', 'SK', 'Apple']\n",
            "<class 'list'>\n",
            "('LG', 'SK', 'Apple')\n",
            "<class 'tuple'>\n"
          ]
        }
      ]
    },
    {
      "cell_type": "code",
      "source": [
        "c = (\"LG\", \"SK\", \"Apple\")\n",
        "d = (\"Samsung\",)  # 튜플 자료형 하나면 꼭 뒤에 콤마 넣기\n",
        "c +=d # 왼쪽은 c = c + d 를 간략화 한 식이다.\n",
        "print(c)"
      ],
      "metadata": {
        "colab": {
          "base_uri": "https://localhost:8080/"
        },
        "id": "tp0QCgMT6IEE",
        "outputId": "4b3ee07d-f604-430d-8fdf-1ee6c46bb63b"
      },
      "execution_count": 68,
      "outputs": [
        {
          "output_type": "stream",
          "name": "stdout",
          "text": [
            "('LG', 'SK', 'Apple', 'Samsung')\n"
          ]
        }
      ]
    },
    {
      "cell_type": "code",
      "source": [
        "t = (\"감\", \"밤\", \"대추\")\n",
        "l = list(t)\n",
        "l.remove(\"대추\")\n",
        "t = tuple(l)\n",
        "print(t)"
      ],
      "metadata": {
        "colab": {
          "base_uri": "https://localhost:8080/"
        },
        "id": "DGgnjjwR6qNj",
        "outputId": "bcfb0c9d-8808-44e1-ba0d-90a7c0f92967"
      },
      "execution_count": 69,
      "outputs": [
        {
          "output_type": "stream",
          "name": "stdout",
          "text": [
            "('감', '밤')\n"
          ]
        }
      ]
    },
    {
      "cell_type": "markdown",
      "source": [
        "## 3. Dict 사전자료형\n",
        "정수형 인덱스가 아닌 키로 값을 저장하기 때문에  \n",
        "저장된 자료의 순서는 의미가 없다.  \n",
        "중괄호로 정의한다 -> d = {'a'=1, 'b'=2, 'c'=3}  \n",
        "키와 값으로 저장!  \n",
        "여기서 사전자료형의 키 값은 변경이 불가능한 객체이다  \n",
        "값의 추가 수정이 매우 용이함  \n",
        "기존의 키에 값을 넣으면 값이 변경됨  \n",
        "기존에 없는 키를 넣으면 추가하여 저장된다  \n",
        "(Keys, Values, items)로 값을 불러올 수 있다\n",
        "\n"
      ],
      "metadata": {
        "id": "cWMJvNfUAvx1"
      }
    },
    {
      "cell_type": "code",
      "source": [
        "d = {\n",
        "    \"a\":1,\n",
        "    \"b\":2,\n",
        "    \"c\":3\n",
        "}\n",
        "print(d)\n",
        "print(type(d))"
      ],
      "metadata": {
        "colab": {
          "base_uri": "https://localhost:8080/"
        },
        "id": "Gs6HlIB6Bwld",
        "outputId": "3da9f642-7372-448d-8b1c-e66a9c47af57"
      },
      "execution_count": 74,
      "outputs": [
        {
          "output_type": "stream",
          "name": "stdout",
          "text": [
            "{'a': 1, 'b': 2, 'c': 3}\n",
            "<class 'dict'>\n"
          ]
        }
      ]
    },
    {
      "cell_type": "code",
      "source": [
        "d = {\n",
        "    \"a\":1,\n",
        "    \"b\":2,\n",
        "    \"c\":3\n",
        "}\n",
        "print(d.keys())\n",
        "print(d.values())\n",
        "print(d.items())"
      ],
      "metadata": {
        "colab": {
          "base_uri": "https://localhost:8080/"
        },
        "id": "NrmfMuL4CNy2",
        "outputId": "ce89d694-a75f-4f5f-f51f-fb64b4104a12"
      },
      "execution_count": 75,
      "outputs": [
        {
          "output_type": "stream",
          "name": "stdout",
          "text": [
            "dict_keys(['a', 'b', 'c'])\n",
            "dict_values([1, 2, 3])\n",
            "dict_items([('a', 1), ('b', 2), ('c', 3)])\n"
          ]
        }
      ]
    },
    {
      "cell_type": "code",
      "source": [
        "car = {\n",
        "    \"maker\" : \"Hyundai\",\n",
        "    \"model\" : \"Pony2\",\n",
        "    \"year\" : 1994\n",
        "}\n",
        "print(car)\n",
        "print(len(car))\n",
        "car[\"year\"] = 2000\n",
        "print(car)\n",
        "car[\"color\"] = \"blue\"\n",
        "print(car)\n",
        "print(car[\"maker\"])"
      ],
      "metadata": {
        "colab": {
          "base_uri": "https://localhost:8080/"
        },
        "id": "Oqd0YNZ-Ctvz",
        "outputId": "1db9bebd-4973-4acf-a938-ecbe6bd46323"
      },
      "execution_count": 81,
      "outputs": [
        {
          "output_type": "stream",
          "name": "stdout",
          "text": [
            "{'maker': 'Hyundai', 'model': 'Pony2', 'year': 1994}\n",
            "3\n",
            "{'maker': 'Hyundai', 'model': 'Pony2', 'year': 2000}\n",
            "{'maker': 'Hyundai', 'model': 'Pony2', 'year': 2000, 'color': 'blue'}\n",
            "Hyundai\n"
          ]
        }
      ]
    },
    {
      "cell_type": "code",
      "source": [
        "car = {\n",
        "    \"maker\" : \"BMW\",\n",
        "    \"model\" : \"740Li\",\n",
        "    \"year\" : 2023\n",
        "}\n",
        "car.pop(\"model\") # 해당 키 값 삭제제\n",
        "print(car)"
      ],
      "metadata": {
        "colab": {
          "base_uri": "https://localhost:8080/"
        },
        "id": "OdthGWcfESrG",
        "outputId": "54dd5b20-c164-4708-e792-9b2aba764d3d"
      },
      "execution_count": 85,
      "outputs": [
        {
          "output_type": "stream",
          "name": "stdout",
          "text": [
            "{'maker': 'BMW', 'year': 2023}\n"
          ]
        }
      ]
    },
    {
      "cell_type": "code",
      "source": [
        "car = {\n",
        "    \"maker\" : \"BMW\",\n",
        "    \"model\" : \"740Li\",\n",
        "    \"year\" : 2023\n",
        "}\n",
        "car.popitem()  # 맨뒤에있는 자료 삭제\n",
        "print(car)"
      ],
      "metadata": {
        "colab": {
          "base_uri": "https://localhost:8080/"
        },
        "id": "_il5T7cfEyjP",
        "outputId": "06391660-130c-405b-e4bd-9668f9ab2c68"
      },
      "execution_count": 86,
      "outputs": [
        {
          "output_type": "stream",
          "name": "stdout",
          "text": [
            "{'maker': 'BMW', 'model': '740Li'}\n"
          ]
        }
      ]
    },
    {
      "cell_type": "code",
      "source": [
        "car = {\n",
        "    \"maker\" : \"BMW\",\n",
        "    \"model\" : \"740Li\",\n",
        "    \"year\" : 2023\n",
        "}\n",
        "car.clear()\n",
        "print(car)\n",
        "car[\"maker\"] = \"KIA\"\n",
        "print(car)"
      ],
      "metadata": {
        "colab": {
          "base_uri": "https://localhost:8080/"
        },
        "id": "Zie6G9fDFJFg",
        "outputId": "4b4a6fb7-9760-49a7-cb9a-169aeda98302"
      },
      "execution_count": 88,
      "outputs": [
        {
          "output_type": "stream",
          "name": "stdout",
          "text": [
            "{}\n",
            "{'maker': 'KIA'}\n"
          ]
        }
      ]
    },
    {
      "cell_type": "code",
      "source": [
        "car = {\n",
        "    \"maker\" : \"BMW\",\n",
        "    \"model\" : \"740Li\",\n",
        "    \"year\" : 2023\n",
        "}\n",
        "del car\n",
        "## print(car) -> car 항목 자체가 지워지기 때문에 출력할 수 없다 (없는 항목을 출력하라고 인식하기 때문)"
      ],
      "metadata": {
        "id": "jGjao58iFfOE"
      },
      "execution_count": 92,
      "outputs": []
    },
    {
      "cell_type": "code",
      "source": [
        "car = {\n",
        "    \"maker\" : \"BMW\",\n",
        "    \"model\" : \"i4\",\n",
        "    \"year\" : 2023\n",
        "}\n",
        "for x in car:\n",
        "  print(car[x])\n",
        "  # for 문을 사용하여 car 안의 '값'을 전부 출력"
      ],
      "metadata": {
        "colab": {
          "base_uri": "https://localhost:8080/"
        },
        "id": "BnBR5wJ4GBPY",
        "outputId": "ca545396-8515-4fa3-b8ab-0ec1cf69eb4b"
      },
      "execution_count": 94,
      "outputs": [
        {
          "output_type": "stream",
          "name": "stdout",
          "text": [
            "BMW\n",
            "i4\n",
            "2023\n"
          ]
        }
      ]
    },
    {
      "cell_type": "code",
      "source": [
        "car = {\n",
        "    \"maker\" : \"BMW\",\n",
        "    \"model\" : \"i4\",\n",
        "    \"year\" : 2023\n",
        "}\n",
        "for x in car.keys():\n",
        "  print(x)\n",
        "  # for 문을 사용하여 key값만 가져와 출력"
      ],
      "metadata": {
        "colab": {
          "base_uri": "https://localhost:8080/"
        },
        "id": "IucUiBnkGWry",
        "outputId": "dac241a9-6bcb-43fc-d06c-35a00c78bd61"
      },
      "execution_count": 95,
      "outputs": [
        {
          "output_type": "stream",
          "name": "stdout",
          "text": [
            "maker\n",
            "model\n",
            "year\n"
          ]
        }
      ]
    },
    {
      "cell_type": "code",
      "source": [
        "car = {\n",
        "    \"maker\" : \"BMW\",\n",
        "    \"model\" : \"i4\",\n",
        "    \"year\" : 2023\n",
        "}\n",
        "for x in car.values():\n",
        "  print(x)\n",
        "  # for 문을 사용하여 value값만 가져와 출력"
      ],
      "metadata": {
        "colab": {
          "base_uri": "https://localhost:8080/"
        },
        "id": "An9nxPtrGh1L",
        "outputId": "b24e49d4-83a9-411b-bb41-3fd65f04b0fc"
      },
      "execution_count": 96,
      "outputs": [
        {
          "output_type": "stream",
          "name": "stdout",
          "text": [
            "BMW\n",
            "i4\n",
            "2023\n"
          ]
        }
      ]
    },
    {
      "cell_type": "code",
      "source": [
        "car = {\n",
        "    \"maker\" : \"BMW\",\n",
        "    \"model\" : \"i4\",\n",
        "    \"year\" : 2023\n",
        "}\n",
        "for x,y in car.items():\n",
        "  print(x,y)\n",
        "  # for 문을 사용하여 item값을 가져와 출력. items는 값이 한쌍이므로 임의의 값을 x,y두개를 넣어줘야 한다."
      ],
      "metadata": {
        "colab": {
          "base_uri": "https://localhost:8080/"
        },
        "id": "lha9ZkY0GqoN",
        "outputId": "83bf3c77-a62f-450e-cdf3-4aadb8f7cdfe"
      },
      "execution_count": 99,
      "outputs": [
        {
          "output_type": "stream",
          "name": "stdout",
          "text": [
            "maker BMW\n",
            "model i4\n",
            "year 2023\n"
          ]
        }
      ]
    },
    {
      "cell_type": "code",
      "source": [
        "car = {\n",
        "    \"maker\" : \"BMW\",\n",
        "    \"model\" : \"i4\",\n",
        "    \"year\" : 2023\n",
        "}\n",
        "myCar = car.copy()\n",
        "print(myCar)\n",
        "# 복사하는 방법은 동일하다"
      ],
      "metadata": {
        "colab": {
          "base_uri": "https://localhost:8080/"
        },
        "id": "Z_EMggrnHSaR",
        "outputId": "993ca853-045b-4e89-d2ad-23196bece861"
      },
      "execution_count": 100,
      "outputs": [
        {
          "output_type": "stream",
          "name": "stdout",
          "text": [
            "{'maker': 'BMW', 'model': 'i4', 'year': 2023}\n"
          ]
        }
      ]
    },
    {
      "cell_type": "code",
      "source": [
        "food = {\n",
        "    \"brand\" : \"Lotte\",\n",
        "    \"model\" : \"Ice Cream\",\n",
        "    \"Price\" : 2000\n",
        "}\n",
        "myFood = dict(food)\n",
        "print(myFood)"
      ],
      "metadata": {
        "colab": {
          "base_uri": "https://localhost:8080/"
        },
        "id": "S9ZDkue2Hz8w",
        "outputId": "7a300062-7381-4367-8bf0-c47ff7d1041b"
      },
      "execution_count": 102,
      "outputs": [
        {
          "output_type": "stream",
          "name": "stdout",
          "text": [
            "{'brand': 'Lotte', 'model': 'Ice Cream', 'Price': 2000}\n"
          ]
        }
      ]
    },
    {
      "cell_type": "code",
      "source": [
        "name1 = {\"name\":\"김삿갓\", \"year\":1900}\n",
        "name2 = {\"name\":\"홍길동\", \"year\":1800}\n",
        "name3 = {\"name\":\"김유진\", \"year\":2000}\n",
        "family = {\n",
        "    \"name1\" : name1,\n",
        "    \"name2\" : name2,\n",
        "    \"name3\" : name3\n",
        "}\n",
        "print(family)"
      ],
      "metadata": {
        "colab": {
          "base_uri": "https://localhost:8080/"
        },
        "id": "5v2_1Dh-Igar",
        "outputId": "0482cf3a-9833-4828-db69-fc91e9476da8"
      },
      "execution_count": 104,
      "outputs": [
        {
          "output_type": "stream",
          "name": "stdout",
          "text": [
            "{'name1': {'name': '김삿갓', 'year': 1900}, 'name2': {'name': '홍길동', 'year': 1800}, 'name3': {'name': '김유진', 'year': 2000}}\n"
          ]
        }
      ]
    },
    {
      "cell_type": "code",
      "source": [
        "a = {\"name1\":\"\",\"num1\":\"\",\"name2\":\"\",\"num2\":\"\",\"name3\":\"\",\"num3\":\"\"}\n",
        "\n",
        "for i in car.items():\n",
        "  namei= input(\"이름: \"),\n",
        "  numi= input(\"전화번호: \")\n",
        "print(a)\n",
        "\n",
        "\n",
        "\n",
        "##for x in car.values():\n",
        "##for i in range(len(fruit)):\n",
        "##for x,y in car.items():\n",
        "## print(x,y)"
      ],
      "metadata": {
        "colab": {
          "base_uri": "https://localhost:8080/",
          "height": 136
        },
        "id": "71oeKnCYJ9Ku",
        "outputId": "3b14ddeb-cb5f-4741-e41b-8172c860675e"
      },
      "execution_count": 129,
      "outputs": [
        {
          "output_type": "error",
          "ename": "SyntaxError",
          "evalue": "ignored",
          "traceback": [
            "\u001b[0;36m  File \u001b[0;32m\"<ipython-input-129-6cd573e26871>\"\u001b[0;36m, line \u001b[0;32m4\u001b[0m\n\u001b[0;31m    namei= input(\"이름: \") , numi= input(\"전화번호: \")\u001b[0m\n\u001b[0m           ^\u001b[0m\n\u001b[0;31mSyntaxError\u001b[0m\u001b[0;31m:\u001b[0m cannot assign to function call\n"
          ]
        }
      ]
    }
  ]
}